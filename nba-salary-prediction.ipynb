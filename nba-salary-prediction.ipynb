{
 "cells": [
  {
   "cell_type": "markdown",
   "metadata": {
    "_cell_guid": "79c7e3d0-c299-4dcb-8224-4455121ee9b0",
    "_uuid": "d629ff2d2480ee46fbb7e2d37f6b5fab8052498a",
    "collapsed": true,
    "papermill": {
     "duration": 0.045618,
     "end_time": "2020-10-13T09:23:38.206492",
     "exception": false,
     "start_time": "2020-10-13T09:23:38.160874",
     "status": "completed"
    },
    "tags": []
   },
   "source": [
    "# What is this project about?\n",
    "\n",
    "Besides playing professional Basketball I like watching and analysing NBA players and games. That is why I would like my first project to be about NBA analytics. \n",
    "In this work i would like to build up a model which predicts the salaries of NBA Players using multiple Stats (like points/rebounds/assists per game) of the previous two NBA Seasons as input variables."
   ]
  },
  {
   "cell_type": "markdown",
   "metadata": {
    "papermill": {
     "duration": 0.043598,
     "end_time": "2020-10-13T09:23:38.294015",
     "exception": false,
     "start_time": "2020-10-13T09:23:38.250417",
     "status": "completed"
    },
    "tags": []
   },
   "source": [
    "## Import packages and data\n",
    "\n",
    "The data I use are the NBA-Player salaries of the season 2019/20 and their stats of the seasons 2017/18 and 2018/19. "
   ]
  },
  {
   "cell_type": "code",
   "execution_count": 1,
   "metadata": {
    "execution": {
     "iopub.execute_input": "2020-10-13T09:23:38.396918Z",
     "iopub.status.busy": "2020-10-13T09:23:38.391915Z",
     "iopub.status.idle": "2020-10-13T09:23:40.564378Z",
     "shell.execute_reply": "2020-10-13T09:23:40.563631Z"
    },
    "papermill": {
     "duration": 2.226318,
     "end_time": "2020-10-13T09:23:40.564537",
     "exception": false,
     "start_time": "2020-10-13T09:23:38.338219",
     "status": "completed"
    },
    "tags": []
   },
   "outputs": [],
   "source": [
    "# Data Manipulation\n",
    "import pandas as pd\n",
    "pd.options.mode.chained_assignment = None\n",
    "import numpy as np\n",
    "import missingno as msno\n",
    "\n",
    "# Visualization\n",
    "import matplotlib.pyplot as plt\n",
    "%matplotlib inline\n",
    "import seaborn as sns\n",
    "\n",
    "# Machine Learning\n",
    "from sklearn.model_selection import train_test_split, KFold, cross_val_score\n",
    "from sklearn import model_selection, metrics\n",
    "from sklearn.preprocessing import OneHotEncoder, StandardScaler, RobustScaler, MaxAbsScaler\n",
    "from sklearn.decomposition import PCA\n",
    "from sklearn.linear_model import LinearRegression, Ridge, Lasso\n",
    "from sklearn.tree import DecisionTreeRegressor\n",
    "from sklearn.ensemble import GradientBoostingRegressor, RandomForestRegressor, AdaBoostRegressor\n",
    "from xgboost import XGBRegressor\n",
    "from lightgbm import LGBMRegressor\n",
    "\n",
    "# Other packages\n",
    "from scipy.stats import norm\n",
    "from scipy import stats\n",
    "\n",
    "# Import data\n",
    "df_salary = pd.read_csv('../input/nba-player-salaries-as-at-2020/NBA Players Salaries 1920.csv')\n",
    "df_stats1718 = pd.read_csv('../input/nba-players-stats-2016-2017/NBA Players Stats 201718.csv')\n",
    "df_stats1819 = pd.read_csv('../input/nba-players-stats-2016-2017/NBA Players Stats 201819.csv')\n",
    "df_list = [df_stats1718, df_stats1819, df_salary]"
   ]
  },
  {
   "cell_type": "markdown",
   "metadata": {
    "papermill": {
     "duration": 0.044138,
     "end_time": "2020-10-13T09:23:40.653498",
     "exception": false,
     "start_time": "2020-10-13T09:23:40.609360",
     "status": "completed"
    },
    "tags": []
   },
   "source": [
    "# 1. Data Cleaning\n",
    "\n",
    "## How does our data look like?\n",
    "\n",
    "Let us look at the first five rows of the datasets."
   ]
  },
  {
   "cell_type": "code",
   "execution_count": 2,
   "metadata": {
    "execution": {
     "iopub.execute_input": "2020-10-13T09:23:40.762115Z",
     "iopub.status.busy": "2020-10-13T09:23:40.760927Z",
     "iopub.status.idle": "2020-10-13T09:23:40.773004Z",
     "shell.execute_reply": "2020-10-13T09:23:40.772476Z"
    },
    "papermill": {
     "duration": 0.075045,
     "end_time": "2020-10-13T09:23:40.773113",
     "exception": false,
     "start_time": "2020-10-13T09:23:40.698068",
     "status": "completed"
    },
    "tags": []
   },
   "outputs": [
    {
     "data": {
      "text/html": [
       "<div>\n",
       "<style scoped>\n",
       "    .dataframe tbody tr th:only-of-type {\n",
       "        vertical-align: middle;\n",
       "    }\n",
       "\n",
       "    .dataframe tbody tr th {\n",
       "        vertical-align: top;\n",
       "    }\n",
       "\n",
       "    .dataframe thead th {\n",
       "        text-align: right;\n",
       "    }\n",
       "</style>\n",
       "<table border=\"1\" class=\"dataframe\">\n",
       "  <thead>\n",
       "    <tr style=\"text-align: right;\">\n",
       "      <th></th>\n",
       "      <th>Rk</th>\n",
       "      <th>Player</th>\n",
       "      <th>Tm</th>\n",
       "      <th>2019-20</th>\n",
       "      <th>2020-21</th>\n",
       "      <th>2021-22</th>\n",
       "      <th>2022-23</th>\n",
       "      <th>2023-24</th>\n",
       "      <th>2024-25</th>\n",
       "      <th>Signed Using</th>\n",
       "      <th>Guaranteed</th>\n",
       "    </tr>\n",
       "  </thead>\n",
       "  <tbody>\n",
       "    <tr>\n",
       "      <th>0</th>\n",
       "      <td>1</td>\n",
       "      <td>Stephen Curry\\curryst01</td>\n",
       "      <td>GSW</td>\n",
       "      <td>40231758.00 $</td>\n",
       "      <td>43006362.00 $</td>\n",
       "      <td>45780966.00 $</td>\n",
       "      <td>NaN</td>\n",
       "      <td>NaN</td>\n",
       "      <td>NaN</td>\n",
       "      <td>Bird Rights</td>\n",
       "      <td>129019086.00 $</td>\n",
       "    </tr>\n",
       "    <tr>\n",
       "      <th>1</th>\n",
       "      <td>2</td>\n",
       "      <td>Chris Paul\\paulch01</td>\n",
       "      <td>OKC</td>\n",
       "      <td>38506482.00 $</td>\n",
       "      <td>41358814.00 $</td>\n",
       "      <td>44211146.00 $</td>\n",
       "      <td>NaN</td>\n",
       "      <td>NaN</td>\n",
       "      <td>NaN</td>\n",
       "      <td>Bird Rights</td>\n",
       "      <td>79865296.00 $</td>\n",
       "    </tr>\n",
       "    <tr>\n",
       "      <th>2</th>\n",
       "      <td>3</td>\n",
       "      <td>Russell Westbrook\\westbru01</td>\n",
       "      <td>HOU</td>\n",
       "      <td>38178000.00 $</td>\n",
       "      <td>41006000.00 $</td>\n",
       "      <td>43848000.00 $</td>\n",
       "      <td>46662000.00 $</td>\n",
       "      <td>NaN</td>\n",
       "      <td>NaN</td>\n",
       "      <td>Bird Rights</td>\n",
       "      <td>123032000.00 $</td>\n",
       "    </tr>\n",
       "    <tr>\n",
       "      <th>3</th>\n",
       "      <td>4</td>\n",
       "      <td>John Wall\\walljo01</td>\n",
       "      <td>WAS</td>\n",
       "      <td>37800000.00 $</td>\n",
       "      <td>40824000.00 $</td>\n",
       "      <td>43848000.00 $</td>\n",
       "      <td>46872000.00 $</td>\n",
       "      <td>NaN</td>\n",
       "      <td>NaN</td>\n",
       "      <td>Bird Rights</td>\n",
       "      <td>122472000.00 $</td>\n",
       "    </tr>\n",
       "    <tr>\n",
       "      <th>4</th>\n",
       "      <td>5</td>\n",
       "      <td>James Harden\\hardeja01</td>\n",
       "      <td>HOU</td>\n",
       "      <td>37800000.00 $</td>\n",
       "      <td>40824000.00 $</td>\n",
       "      <td>43848000.00 $</td>\n",
       "      <td>46872000.00 $</td>\n",
       "      <td>NaN</td>\n",
       "      <td>NaN</td>\n",
       "      <td>Bird Rights</td>\n",
       "      <td>122472000.00 $</td>\n",
       "    </tr>\n",
       "  </tbody>\n",
       "</table>\n",
       "</div>"
      ],
      "text/plain": [
       "   Rk                       Player   Tm        2019-20        2020-21  \\\n",
       "0   1      Stephen Curry\\curryst01  GSW  40231758.00 $  43006362.00 $   \n",
       "1   2          Chris Paul\\paulch01  OKC  38506482.00 $  41358814.00 $   \n",
       "2   3  Russell Westbrook\\westbru01  HOU  38178000.00 $  41006000.00 $   \n",
       "3   4           John Wall\\walljo01  WAS  37800000.00 $  40824000.00 $   \n",
       "4   5       James Harden\\hardeja01  HOU  37800000.00 $  40824000.00 $   \n",
       "\n",
       "         2021-22        2022-23 2023-24 2024-25 Signed Using      Guaranteed  \n",
       "0  45780966.00 $            NaN     NaN     NaN  Bird Rights  129019086.00 $  \n",
       "1  44211146.00 $            NaN     NaN     NaN  Bird Rights   79865296.00 $  \n",
       "2  43848000.00 $  46662000.00 $     NaN     NaN  Bird Rights  123032000.00 $  \n",
       "3  43848000.00 $  46872000.00 $     NaN     NaN  Bird Rights  122472000.00 $  \n",
       "4  43848000.00 $  46872000.00 $     NaN     NaN  Bird Rights  122472000.00 $  "
      ]
     },
     "execution_count": 2,
     "metadata": {},
     "output_type": "execute_result"
    }
   ],
   "source": [
    "# Salary\n",
    "df_salary.head()"
   ]
  },
  {
   "cell_type": "code",
   "execution_count": 3,
   "metadata": {
    "execution": {
     "iopub.execute_input": "2020-10-13T09:23:40.894268Z",
     "iopub.status.busy": "2020-10-13T09:23:40.893367Z",
     "iopub.status.idle": "2020-10-13T09:23:40.898318Z",
     "shell.execute_reply": "2020-10-13T09:23:40.897655Z"
    },
    "papermill": {
     "duration": 0.079512,
     "end_time": "2020-10-13T09:23:40.898456",
     "exception": false,
     "start_time": "2020-10-13T09:23:40.818944",
     "status": "completed"
    },
    "tags": []
   },
   "outputs": [
    {
     "data": {
      "text/html": [
       "<div>\n",
       "<style scoped>\n",
       "    .dataframe tbody tr th:only-of-type {\n",
       "        vertical-align: middle;\n",
       "    }\n",
       "\n",
       "    .dataframe tbody tr th {\n",
       "        vertical-align: top;\n",
       "    }\n",
       "\n",
       "    .dataframe thead th {\n",
       "        text-align: right;\n",
       "    }\n",
       "</style>\n",
       "<table border=\"1\" class=\"dataframe\">\n",
       "  <thead>\n",
       "    <tr style=\"text-align: right;\">\n",
       "      <th></th>\n",
       "      <th>Rk</th>\n",
       "      <th>Player</th>\n",
       "      <th>Pos</th>\n",
       "      <th>Age</th>\n",
       "      <th>Tm</th>\n",
       "      <th>G</th>\n",
       "      <th>GS</th>\n",
       "      <th>MP</th>\n",
       "      <th>FG</th>\n",
       "      <th>FGA</th>\n",
       "      <th>...</th>\n",
       "      <th>FT%</th>\n",
       "      <th>ORB</th>\n",
       "      <th>DRB</th>\n",
       "      <th>TRB</th>\n",
       "      <th>AST</th>\n",
       "      <th>STL</th>\n",
       "      <th>BLK</th>\n",
       "      <th>TOV</th>\n",
       "      <th>PF</th>\n",
       "      <th>PTS</th>\n",
       "    </tr>\n",
       "  </thead>\n",
       "  <tbody>\n",
       "    <tr>\n",
       "      <th>0</th>\n",
       "      <td>1</td>\n",
       "      <td>Álex Abrines\\abrinal01</td>\n",
       "      <td>SG</td>\n",
       "      <td>24</td>\n",
       "      <td>OKC</td>\n",
       "      <td>75</td>\n",
       "      <td>8</td>\n",
       "      <td>15.1</td>\n",
       "      <td>1.5</td>\n",
       "      <td>3.9</td>\n",
       "      <td>...</td>\n",
       "      <td>0.848</td>\n",
       "      <td>0.3</td>\n",
       "      <td>1.2</td>\n",
       "      <td>1.5</td>\n",
       "      <td>0.4</td>\n",
       "      <td>0.5</td>\n",
       "      <td>0.1</td>\n",
       "      <td>0.3</td>\n",
       "      <td>1.7</td>\n",
       "      <td>4.7</td>\n",
       "    </tr>\n",
       "    <tr>\n",
       "      <th>1</th>\n",
       "      <td>2</td>\n",
       "      <td>Quincy Acy\\acyqu01</td>\n",
       "      <td>PF</td>\n",
       "      <td>27</td>\n",
       "      <td>BRK</td>\n",
       "      <td>70</td>\n",
       "      <td>8</td>\n",
       "      <td>19.4</td>\n",
       "      <td>1.9</td>\n",
       "      <td>5.2</td>\n",
       "      <td>...</td>\n",
       "      <td>0.817</td>\n",
       "      <td>0.6</td>\n",
       "      <td>3.1</td>\n",
       "      <td>3.7</td>\n",
       "      <td>0.8</td>\n",
       "      <td>0.5</td>\n",
       "      <td>0.4</td>\n",
       "      <td>0.9</td>\n",
       "      <td>2.1</td>\n",
       "      <td>5.9</td>\n",
       "    </tr>\n",
       "    <tr>\n",
       "      <th>2</th>\n",
       "      <td>3</td>\n",
       "      <td>Steven Adams\\adamsst01</td>\n",
       "      <td>C</td>\n",
       "      <td>24</td>\n",
       "      <td>OKC</td>\n",
       "      <td>76</td>\n",
       "      <td>76</td>\n",
       "      <td>32.7</td>\n",
       "      <td>5.9</td>\n",
       "      <td>9.4</td>\n",
       "      <td>...</td>\n",
       "      <td>0.559</td>\n",
       "      <td>5.1</td>\n",
       "      <td>4.0</td>\n",
       "      <td>9.0</td>\n",
       "      <td>1.2</td>\n",
       "      <td>1.2</td>\n",
       "      <td>1.0</td>\n",
       "      <td>1.7</td>\n",
       "      <td>2.8</td>\n",
       "      <td>13.9</td>\n",
       "    </tr>\n",
       "    <tr>\n",
       "      <th>3</th>\n",
       "      <td>4</td>\n",
       "      <td>Bam Adebayo\\adebaba01</td>\n",
       "      <td>C</td>\n",
       "      <td>20</td>\n",
       "      <td>MIA</td>\n",
       "      <td>69</td>\n",
       "      <td>19</td>\n",
       "      <td>19.8</td>\n",
       "      <td>2.5</td>\n",
       "      <td>4.9</td>\n",
       "      <td>...</td>\n",
       "      <td>0.721</td>\n",
       "      <td>1.7</td>\n",
       "      <td>3.8</td>\n",
       "      <td>5.5</td>\n",
       "      <td>1.5</td>\n",
       "      <td>0.5</td>\n",
       "      <td>0.6</td>\n",
       "      <td>1.0</td>\n",
       "      <td>2.0</td>\n",
       "      <td>6.9</td>\n",
       "    </tr>\n",
       "    <tr>\n",
       "      <th>4</th>\n",
       "      <td>5</td>\n",
       "      <td>Arron Afflalo\\afflaar01</td>\n",
       "      <td>SG</td>\n",
       "      <td>32</td>\n",
       "      <td>ORL</td>\n",
       "      <td>53</td>\n",
       "      <td>3</td>\n",
       "      <td>12.9</td>\n",
       "      <td>1.2</td>\n",
       "      <td>3.1</td>\n",
       "      <td>...</td>\n",
       "      <td>0.846</td>\n",
       "      <td>0.1</td>\n",
       "      <td>1.2</td>\n",
       "      <td>1.2</td>\n",
       "      <td>0.6</td>\n",
       "      <td>0.1</td>\n",
       "      <td>0.2</td>\n",
       "      <td>0.4</td>\n",
       "      <td>1.1</td>\n",
       "      <td>3.4</td>\n",
       "    </tr>\n",
       "  </tbody>\n",
       "</table>\n",
       "<p>5 rows × 30 columns</p>\n",
       "</div>"
      ],
      "text/plain": [
       "   Rk                   Player Pos  Age   Tm   G  GS    MP   FG  FGA  ...  \\\n",
       "0   1   Álex Abrines\\abrinal01  SG   24  OKC  75   8  15.1  1.5  3.9  ...   \n",
       "1   2       Quincy Acy\\acyqu01  PF   27  BRK  70   8  19.4  1.9  5.2  ...   \n",
       "2   3   Steven Adams\\adamsst01   C   24  OKC  76  76  32.7  5.9  9.4  ...   \n",
       "3   4    Bam Adebayo\\adebaba01   C   20  MIA  69  19  19.8  2.5  4.9  ...   \n",
       "4   5  Arron Afflalo\\afflaar01  SG   32  ORL  53   3  12.9  1.2  3.1  ...   \n",
       "\n",
       "     FT%  ORB  DRB  TRB  AST  STL  BLK  TOV   PF   PTS  \n",
       "0  0.848  0.3  1.2  1.5  0.4  0.5  0.1  0.3  1.7   4.7  \n",
       "1  0.817  0.6  3.1  3.7  0.8  0.5  0.4  0.9  2.1   5.9  \n",
       "2  0.559  5.1  4.0  9.0  1.2  1.2  1.0  1.7  2.8  13.9  \n",
       "3  0.721  1.7  3.8  5.5  1.5  0.5  0.6  1.0  2.0   6.9  \n",
       "4  0.846  0.1  1.2  1.2  0.6  0.1  0.2  0.4  1.1   3.4  \n",
       "\n",
       "[5 rows x 30 columns]"
      ]
     },
     "execution_count": 3,
     "metadata": {},
     "output_type": "execute_result"
    }
   ],
   "source": [
    "# Season Stats 17/18\n",
    "df_stats1718.head()"
   ]
  },
  {
   "cell_type": "code",
   "execution_count": 4,
   "metadata": {
    "execution": {
     "iopub.execute_input": "2020-10-13T09:23:41.018284Z",
     "iopub.status.busy": "2020-10-13T09:23:41.007058Z",
     "iopub.status.idle": "2020-10-13T09:23:41.024528Z",
     "shell.execute_reply": "2020-10-13T09:23:41.023996Z"
    },
    "papermill": {
     "duration": 0.078837,
     "end_time": "2020-10-13T09:23:41.024655",
     "exception": false,
     "start_time": "2020-10-13T09:23:40.945818",
     "status": "completed"
    },
    "tags": []
   },
   "outputs": [
    {
     "data": {
      "text/html": [
       "<div>\n",
       "<style scoped>\n",
       "    .dataframe tbody tr th:only-of-type {\n",
       "        vertical-align: middle;\n",
       "    }\n",
       "\n",
       "    .dataframe tbody tr th {\n",
       "        vertical-align: top;\n",
       "    }\n",
       "\n",
       "    .dataframe thead th {\n",
       "        text-align: right;\n",
       "    }\n",
       "</style>\n",
       "<table border=\"1\" class=\"dataframe\">\n",
       "  <thead>\n",
       "    <tr style=\"text-align: right;\">\n",
       "      <th></th>\n",
       "      <th>Rk</th>\n",
       "      <th>Player</th>\n",
       "      <th>Pos</th>\n",
       "      <th>Age</th>\n",
       "      <th>Tm</th>\n",
       "      <th>G</th>\n",
       "      <th>GS</th>\n",
       "      <th>MP</th>\n",
       "      <th>FG</th>\n",
       "      <th>FGA</th>\n",
       "      <th>...</th>\n",
       "      <th>FT%</th>\n",
       "      <th>ORB</th>\n",
       "      <th>DRB</th>\n",
       "      <th>TRB</th>\n",
       "      <th>AST</th>\n",
       "      <th>STL</th>\n",
       "      <th>BLK</th>\n",
       "      <th>TOV</th>\n",
       "      <th>PF</th>\n",
       "      <th>PTS</th>\n",
       "    </tr>\n",
       "  </thead>\n",
       "  <tbody>\n",
       "    <tr>\n",
       "      <th>0</th>\n",
       "      <td>1</td>\n",
       "      <td>Álex Abrines\\abrinal01</td>\n",
       "      <td>SG</td>\n",
       "      <td>25</td>\n",
       "      <td>OKC</td>\n",
       "      <td>31</td>\n",
       "      <td>2</td>\n",
       "      <td>19.0</td>\n",
       "      <td>1.8</td>\n",
       "      <td>5.1</td>\n",
       "      <td>...</td>\n",
       "      <td>0.923</td>\n",
       "      <td>0.2</td>\n",
       "      <td>1.4</td>\n",
       "      <td>1.5</td>\n",
       "      <td>0.6</td>\n",
       "      <td>0.5</td>\n",
       "      <td>0.2</td>\n",
       "      <td>0.5</td>\n",
       "      <td>1.7</td>\n",
       "      <td>5.3</td>\n",
       "    </tr>\n",
       "    <tr>\n",
       "      <th>1</th>\n",
       "      <td>2</td>\n",
       "      <td>Quincy Acy\\acyqu01</td>\n",
       "      <td>PF</td>\n",
       "      <td>28</td>\n",
       "      <td>PHO</td>\n",
       "      <td>10</td>\n",
       "      <td>0</td>\n",
       "      <td>12.3</td>\n",
       "      <td>0.4</td>\n",
       "      <td>1.8</td>\n",
       "      <td>...</td>\n",
       "      <td>0.700</td>\n",
       "      <td>0.3</td>\n",
       "      <td>2.2</td>\n",
       "      <td>2.5</td>\n",
       "      <td>0.8</td>\n",
       "      <td>0.1</td>\n",
       "      <td>0.4</td>\n",
       "      <td>0.4</td>\n",
       "      <td>2.4</td>\n",
       "      <td>1.7</td>\n",
       "    </tr>\n",
       "    <tr>\n",
       "      <th>2</th>\n",
       "      <td>3</td>\n",
       "      <td>Jaylen Adams\\adamsja01</td>\n",
       "      <td>PG</td>\n",
       "      <td>22</td>\n",
       "      <td>ATL</td>\n",
       "      <td>34</td>\n",
       "      <td>1</td>\n",
       "      <td>12.6</td>\n",
       "      <td>1.1</td>\n",
       "      <td>3.2</td>\n",
       "      <td>...</td>\n",
       "      <td>0.778</td>\n",
       "      <td>0.3</td>\n",
       "      <td>1.4</td>\n",
       "      <td>1.8</td>\n",
       "      <td>1.9</td>\n",
       "      <td>0.4</td>\n",
       "      <td>0.1</td>\n",
       "      <td>0.8</td>\n",
       "      <td>1.3</td>\n",
       "      <td>3.2</td>\n",
       "    </tr>\n",
       "    <tr>\n",
       "      <th>3</th>\n",
       "      <td>4</td>\n",
       "      <td>Steven Adams\\adamsst01</td>\n",
       "      <td>C</td>\n",
       "      <td>25</td>\n",
       "      <td>OKC</td>\n",
       "      <td>80</td>\n",
       "      <td>80</td>\n",
       "      <td>33.4</td>\n",
       "      <td>6.0</td>\n",
       "      <td>10.1</td>\n",
       "      <td>...</td>\n",
       "      <td>0.500</td>\n",
       "      <td>4.9</td>\n",
       "      <td>4.6</td>\n",
       "      <td>9.5</td>\n",
       "      <td>1.6</td>\n",
       "      <td>1.5</td>\n",
       "      <td>1.0</td>\n",
       "      <td>1.7</td>\n",
       "      <td>2.6</td>\n",
       "      <td>13.9</td>\n",
       "    </tr>\n",
       "    <tr>\n",
       "      <th>4</th>\n",
       "      <td>5</td>\n",
       "      <td>Bam Adebayo\\adebaba01</td>\n",
       "      <td>C</td>\n",
       "      <td>21</td>\n",
       "      <td>MIA</td>\n",
       "      <td>82</td>\n",
       "      <td>28</td>\n",
       "      <td>23.3</td>\n",
       "      <td>3.4</td>\n",
       "      <td>5.9</td>\n",
       "      <td>...</td>\n",
       "      <td>0.735</td>\n",
       "      <td>2.0</td>\n",
       "      <td>5.3</td>\n",
       "      <td>7.3</td>\n",
       "      <td>2.2</td>\n",
       "      <td>0.9</td>\n",
       "      <td>0.8</td>\n",
       "      <td>1.5</td>\n",
       "      <td>2.5</td>\n",
       "      <td>8.9</td>\n",
       "    </tr>\n",
       "  </tbody>\n",
       "</table>\n",
       "<p>5 rows × 30 columns</p>\n",
       "</div>"
      ],
      "text/plain": [
       "   Rk                  Player Pos  Age   Tm   G  GS    MP   FG   FGA  ...  \\\n",
       "0   1  Álex Abrines\\abrinal01  SG   25  OKC  31   2  19.0  1.8   5.1  ...   \n",
       "1   2      Quincy Acy\\acyqu01  PF   28  PHO  10   0  12.3  0.4   1.8  ...   \n",
       "2   3  Jaylen Adams\\adamsja01  PG   22  ATL  34   1  12.6  1.1   3.2  ...   \n",
       "3   4  Steven Adams\\adamsst01   C   25  OKC  80  80  33.4  6.0  10.1  ...   \n",
       "4   5   Bam Adebayo\\adebaba01   C   21  MIA  82  28  23.3  3.4   5.9  ...   \n",
       "\n",
       "     FT%  ORB  DRB  TRB  AST  STL  BLK  TOV   PF   PTS  \n",
       "0  0.923  0.2  1.4  1.5  0.6  0.5  0.2  0.5  1.7   5.3  \n",
       "1  0.700  0.3  2.2  2.5  0.8  0.1  0.4  0.4  2.4   1.7  \n",
       "2  0.778  0.3  1.4  1.8  1.9  0.4  0.1  0.8  1.3   3.2  \n",
       "3  0.500  4.9  4.6  9.5  1.6  1.5  1.0  1.7  2.6  13.9  \n",
       "4  0.735  2.0  5.3  7.3  2.2  0.9  0.8  1.5  2.5   8.9  \n",
       "\n",
       "[5 rows x 30 columns]"
      ]
     },
     "execution_count": 4,
     "metadata": {},
     "output_type": "execute_result"
    }
   ],
   "source": [
    "# Season Stats 18/19\n",
    "df_stats1819.head()"
   ]
  },
  {
   "cell_type": "markdown",
   "metadata": {
    "papermill": {
     "duration": 0.046026,
     "end_time": "2020-10-13T09:23:41.119250",
     "exception": false,
     "start_time": "2020-10-13T09:23:41.073224",
     "status": "completed"
    },
    "tags": []
   },
   "source": [
    "**We only want the player names in the column \"Player\"**"
   ]
  },
  {
   "cell_type": "code",
   "execution_count": 5,
   "metadata": {
    "execution": {
     "iopub.execute_input": "2020-10-13T09:23:41.241470Z",
     "iopub.status.busy": "2020-10-13T09:23:41.240522Z",
     "iopub.status.idle": "2020-10-13T09:23:41.244120Z",
     "shell.execute_reply": "2020-10-13T09:23:41.243493Z"
    },
    "papermill": {
     "duration": 0.078616,
     "end_time": "2020-10-13T09:23:41.244234",
     "exception": false,
     "start_time": "2020-10-13T09:23:41.165618",
     "status": "completed"
    },
    "tags": []
   },
   "outputs": [],
   "source": [
    "# Correct player names\n",
    "for df in df_list:\n",
    "    df[['Player', 'Del']] = df.Player.str.split(\"\\\\\", expand = True)\n",
    "\n",
    "df_stats1718 = df_stats1718.drop(['Del'], axis = 1)\n",
    "df_stats1819 = df_stats1819.drop(['Del'], axis = 1)\n",
    "df_salary = df_salary.drop(['Del'], axis = 1)"
   ]
  },
  {
   "cell_type": "markdown",
   "metadata": {
    "papermill": {
     "duration": 0.045734,
     "end_time": "2020-10-13T09:23:41.338026",
     "exception": false,
     "start_time": "2020-10-13T09:23:41.292292",
     "status": "completed"
    },
    "tags": []
   },
   "source": [
    "**We do not need the currency for Salary and we need to rename the salary column**\n",
    "\n",
    "In this analysis we will only need the Salary of the season 19/20. That is why we will only change the mentioned aspects for salary 19/20."
   ]
  },
  {
   "cell_type": "code",
   "execution_count": 6,
   "metadata": {
    "execution": {
     "iopub.execute_input": "2020-10-13T09:23:41.439362Z",
     "iopub.status.busy": "2020-10-13T09:23:41.437686Z",
     "iopub.status.idle": "2020-10-13T09:23:41.443233Z",
     "shell.execute_reply": "2020-10-13T09:23:41.442594Z"
    },
    "papermill": {
     "duration": 0.059035,
     "end_time": "2020-10-13T09:23:41.443343",
     "exception": false,
     "start_time": "2020-10-13T09:23:41.384308",
     "status": "completed"
    },
    "tags": []
   },
   "outputs": [],
   "source": [
    "# Delete $ signs and turn column into float\n",
    "df_salary['2019-20'] = df_salary['2019-20'].str[:-2].astype(float)\n",
    "\n",
    "# Rename salary column\n",
    "df_salary = df_salary.rename(columns = {'2019-20': 'Salary 19/20'})\n",
    "\n",
    "# Transform salary to 1000\n",
    "df_salary['Salary 19/20'] = df_salary['Salary 19/20']/1000"
   ]
  },
  {
   "cell_type": "markdown",
   "metadata": {
    "papermill": {
     "duration": 0.059216,
     "end_time": "2020-10-13T09:23:41.553339",
     "exception": false,
     "start_time": "2020-10-13T09:23:41.494123",
     "status": "completed"
    },
    "tags": []
   },
   "source": [
    "**Delete duplicate rows for same player in season stats datasets**\n",
    "\n",
    "As for our analysis it is not important where the player played in a season we can delete all duplicate rows of players who switched teams during the season and keep the row with total season stats. "
   ]
  },
  {
   "cell_type": "code",
   "execution_count": 7,
   "metadata": {
    "execution": {
     "iopub.execute_input": "2020-10-13T09:23:41.662312Z",
     "iopub.status.busy": "2020-10-13T09:23:41.660944Z",
     "iopub.status.idle": "2020-10-13T09:23:41.665708Z",
     "shell.execute_reply": "2020-10-13T09:23:41.666157Z"
    },
    "papermill": {
     "duration": 0.061757,
     "end_time": "2020-10-13T09:23:41.666305",
     "exception": false,
     "start_time": "2020-10-13T09:23:41.604548",
     "status": "completed"
    },
    "tags": []
   },
   "outputs": [],
   "source": [
    "# As total stats always is in the top row we can simply use the drop_duplicates function\n",
    "df_stats1718 = df_stats1718.drop_duplicates(['Player'])\n",
    "df_stats1819 = df_stats1819.drop_duplicates(['Player'])"
   ]
  },
  {
   "cell_type": "markdown",
   "metadata": {
    "papermill": {
     "duration": 0.047345,
     "end_time": "2020-10-13T09:23:41.760512",
     "exception": false,
     "start_time": "2020-10-13T09:23:41.713167",
     "status": "completed"
    },
    "tags": []
   },
   "source": [
    "## Merge Datasets\n",
    "\n",
    "First we need to assign the corresponding year to every column of each dataset of season stats. "
   ]
  },
  {
   "cell_type": "code",
   "execution_count": 8,
   "metadata": {
    "execution": {
     "iopub.execute_input": "2020-10-13T09:23:41.863245Z",
     "iopub.status.busy": "2020-10-13T09:23:41.862531Z",
     "iopub.status.idle": "2020-10-13T09:23:41.865968Z",
     "shell.execute_reply": "2020-10-13T09:23:41.865301Z"
    },
    "papermill": {
     "duration": 0.058307,
     "end_time": "2020-10-13T09:23:41.866085",
     "exception": false,
     "start_time": "2020-10-13T09:23:41.807778",
     "status": "completed"
    },
    "tags": []
   },
   "outputs": [],
   "source": [
    "# Add season year to corresponding columns\n",
    "columns_renamed = [s + ' 17/18' for s in list(df_stats1718.columns)]\n",
    "df_stats1718.columns = list(df_stats1718.columns)[:3] + columns_renamed[3:]\n",
    "\n",
    "columns_renamed = [s + ' 18/19' for s in list(df_stats1819.columns)]\n",
    "df_stats1819.columns = list(df_stats1819.columns)[:3] + columns_renamed[3:]\n",
    "\n",
    "# Delete Pos column from 17/18 df; we need it only once\n",
    "df_stats1718 = df_stats1718.drop('Pos', axis = 1)"
   ]
  },
  {
   "cell_type": "markdown",
   "metadata": {
    "papermill": {
     "duration": 0.046866,
     "end_time": "2020-10-13T09:23:41.960016",
     "exception": false,
     "start_time": "2020-10-13T09:23:41.913150",
     "status": "completed"
    },
    "tags": []
   },
   "source": [
    "Now we merge"
   ]
  },
  {
   "cell_type": "code",
   "execution_count": 9,
   "metadata": {
    "execution": {
     "iopub.execute_input": "2020-10-13T09:23:42.070525Z",
     "iopub.status.busy": "2020-10-13T09:23:42.069850Z",
     "iopub.status.idle": "2020-10-13T09:23:42.113363Z",
     "shell.execute_reply": "2020-10-13T09:23:42.112686Z"
    },
    "papermill": {
     "duration": 0.105723,
     "end_time": "2020-10-13T09:23:42.113510",
     "exception": false,
     "start_time": "2020-10-13T09:23:42.007787",
     "status": "completed"
    },
    "tags": []
   },
   "outputs": [
    {
     "data": {
      "text/html": [
       "<div>\n",
       "<style scoped>\n",
       "    .dataframe tbody tr th:only-of-type {\n",
       "        vertical-align: middle;\n",
       "    }\n",
       "\n",
       "    .dataframe tbody tr th {\n",
       "        vertical-align: top;\n",
       "    }\n",
       "\n",
       "    .dataframe thead th {\n",
       "        text-align: right;\n",
       "    }\n",
       "</style>\n",
       "<table border=\"1\" class=\"dataframe\">\n",
       "  <thead>\n",
       "    <tr style=\"text-align: right;\">\n",
       "      <th></th>\n",
       "      <th>Rk_x</th>\n",
       "      <th>Player</th>\n",
       "      <th>Age 17/18</th>\n",
       "      <th>Tm 17/18</th>\n",
       "      <th>G 17/18</th>\n",
       "      <th>GS 17/18</th>\n",
       "      <th>MP 17/18</th>\n",
       "      <th>FG 17/18</th>\n",
       "      <th>FGA 17/18</th>\n",
       "      <th>FG% 17/18</th>\n",
       "      <th>...</th>\n",
       "      <th>Rk</th>\n",
       "      <th>Tm</th>\n",
       "      <th>Salary 19/20</th>\n",
       "      <th>2020-21</th>\n",
       "      <th>2021-22</th>\n",
       "      <th>2022-23</th>\n",
       "      <th>2023-24</th>\n",
       "      <th>2024-25</th>\n",
       "      <th>Signed Using</th>\n",
       "      <th>Guaranteed</th>\n",
       "    </tr>\n",
       "  </thead>\n",
       "  <tbody>\n",
       "    <tr>\n",
       "      <th>0</th>\n",
       "      <td>1.0</td>\n",
       "      <td>Álex Abrines</td>\n",
       "      <td>24.0</td>\n",
       "      <td>OKC</td>\n",
       "      <td>75.0</td>\n",
       "      <td>8.0</td>\n",
       "      <td>15.1</td>\n",
       "      <td>1.5</td>\n",
       "      <td>3.9</td>\n",
       "      <td>0.395</td>\n",
       "      <td>...</td>\n",
       "      <td>NaN</td>\n",
       "      <td>NaN</td>\n",
       "      <td>NaN</td>\n",
       "      <td>NaN</td>\n",
       "      <td>NaN</td>\n",
       "      <td>NaN</td>\n",
       "      <td>NaN</td>\n",
       "      <td>NaN</td>\n",
       "      <td>NaN</td>\n",
       "      <td>NaN</td>\n",
       "    </tr>\n",
       "    <tr>\n",
       "      <th>1</th>\n",
       "      <td>2.0</td>\n",
       "      <td>Quincy Acy</td>\n",
       "      <td>27.0</td>\n",
       "      <td>BRK</td>\n",
       "      <td>70.0</td>\n",
       "      <td>8.0</td>\n",
       "      <td>19.4</td>\n",
       "      <td>1.9</td>\n",
       "      <td>5.2</td>\n",
       "      <td>0.356</td>\n",
       "      <td>...</td>\n",
       "      <td>NaN</td>\n",
       "      <td>NaN</td>\n",
       "      <td>NaN</td>\n",
       "      <td>NaN</td>\n",
       "      <td>NaN</td>\n",
       "      <td>NaN</td>\n",
       "      <td>NaN</td>\n",
       "      <td>NaN</td>\n",
       "      <td>NaN</td>\n",
       "      <td>NaN</td>\n",
       "    </tr>\n",
       "    <tr>\n",
       "      <th>2</th>\n",
       "      <td>3.0</td>\n",
       "      <td>Steven Adams</td>\n",
       "      <td>24.0</td>\n",
       "      <td>OKC</td>\n",
       "      <td>76.0</td>\n",
       "      <td>76.0</td>\n",
       "      <td>32.7</td>\n",
       "      <td>5.9</td>\n",
       "      <td>9.4</td>\n",
       "      <td>0.629</td>\n",
       "      <td>...</td>\n",
       "      <td>41.0</td>\n",
       "      <td>OKC</td>\n",
       "      <td>25842.697</td>\n",
       "      <td>27528090.00 $</td>\n",
       "      <td>NaN</td>\n",
       "      <td>NaN</td>\n",
       "      <td>NaN</td>\n",
       "      <td>NaN</td>\n",
       "      <td>1st Round Pick</td>\n",
       "      <td>53370787.00 $</td>\n",
       "    </tr>\n",
       "    <tr>\n",
       "      <th>3</th>\n",
       "      <td>4.0</td>\n",
       "      <td>Bam Adebayo</td>\n",
       "      <td>20.0</td>\n",
       "      <td>MIA</td>\n",
       "      <td>69.0</td>\n",
       "      <td>19.0</td>\n",
       "      <td>19.8</td>\n",
       "      <td>2.5</td>\n",
       "      <td>4.9</td>\n",
       "      <td>0.512</td>\n",
       "      <td>...</td>\n",
       "      <td>253.0</td>\n",
       "      <td>MIA</td>\n",
       "      <td>3454.080</td>\n",
       "      <td>5115492.00 $</td>\n",
       "      <td>NaN</td>\n",
       "      <td>NaN</td>\n",
       "      <td>NaN</td>\n",
       "      <td>NaN</td>\n",
       "      <td>1st Round Pick</td>\n",
       "      <td>8569572.00 $</td>\n",
       "    </tr>\n",
       "    <tr>\n",
       "      <th>4</th>\n",
       "      <td>5.0</td>\n",
       "      <td>Arron Afflalo</td>\n",
       "      <td>32.0</td>\n",
       "      <td>ORL</td>\n",
       "      <td>53.0</td>\n",
       "      <td>3.0</td>\n",
       "      <td>12.9</td>\n",
       "      <td>1.2</td>\n",
       "      <td>3.1</td>\n",
       "      <td>0.401</td>\n",
       "      <td>...</td>\n",
       "      <td>NaN</td>\n",
       "      <td>NaN</td>\n",
       "      <td>NaN</td>\n",
       "      <td>NaN</td>\n",
       "      <td>NaN</td>\n",
       "      <td>NaN</td>\n",
       "      <td>NaN</td>\n",
       "      <td>NaN</td>\n",
       "      <td>NaN</td>\n",
       "      <td>NaN</td>\n",
       "    </tr>\n",
       "  </tbody>\n",
       "</table>\n",
       "<p>5 rows × 68 columns</p>\n",
       "</div>"
      ],
      "text/plain": [
       "   Rk_x         Player  Age 17/18 Tm 17/18  G 17/18  GS 17/18  MP 17/18  \\\n",
       "0   1.0   Álex Abrines       24.0      OKC     75.0       8.0      15.1   \n",
       "1   2.0     Quincy Acy       27.0      BRK     70.0       8.0      19.4   \n",
       "2   3.0   Steven Adams       24.0      OKC     76.0      76.0      32.7   \n",
       "3   4.0    Bam Adebayo       20.0      MIA     69.0      19.0      19.8   \n",
       "4   5.0  Arron Afflalo       32.0      ORL     53.0       3.0      12.9   \n",
       "\n",
       "   FG 17/18  FGA 17/18  FG% 17/18  ...     Rk   Tm  Salary 19/20  \\\n",
       "0       1.5        3.9      0.395  ...    NaN  NaN           NaN   \n",
       "1       1.9        5.2      0.356  ...    NaN  NaN           NaN   \n",
       "2       5.9        9.4      0.629  ...   41.0  OKC     25842.697   \n",
       "3       2.5        4.9      0.512  ...  253.0  MIA      3454.080   \n",
       "4       1.2        3.1      0.401  ...    NaN  NaN           NaN   \n",
       "\n",
       "         2020-21  2021-22  2022-23  2023-24  2024-25    Signed Using  \\\n",
       "0            NaN      NaN      NaN      NaN      NaN             NaN   \n",
       "1            NaN      NaN      NaN      NaN      NaN             NaN   \n",
       "2  27528090.00 $      NaN      NaN      NaN      NaN  1st Round Pick   \n",
       "3   5115492.00 $      NaN      NaN      NaN      NaN  1st Round Pick   \n",
       "4            NaN      NaN      NaN      NaN      NaN             NaN   \n",
       "\n",
       "      Guaranteed  \n",
       "0            NaN  \n",
       "1            NaN  \n",
       "2  53370787.00 $  \n",
       "3   8569572.00 $  \n",
       "4            NaN  \n",
       "\n",
       "[5 rows x 68 columns]"
      ]
     },
     "execution_count": 9,
     "metadata": {},
     "output_type": "execute_result"
    }
   ],
   "source": [
    "# Merge datasets\n",
    "df_stats = df_stats1718.merge(df_stats1819, how = 'outer',left_on = ['Player'],right_on = ['Player'])\n",
    "df = df_stats.merge(df_salary, how = 'outer', left_on = ['Player'],right_on = ['Player'])\n",
    "\n",
    "df.head()"
   ]
  },
  {
   "cell_type": "markdown",
   "metadata": {
    "papermill": {
     "duration": 0.048186,
     "end_time": "2020-10-13T09:23:42.209746",
     "exception": false,
     "start_time": "2020-10-13T09:23:42.161560",
     "status": "completed"
    },
    "tags": []
   },
   "source": [
    "**What is the length of this dataset?**"
   ]
  },
  {
   "cell_type": "code",
   "execution_count": 10,
   "metadata": {
    "execution": {
     "iopub.execute_input": "2020-10-13T09:23:42.312315Z",
     "iopub.status.busy": "2020-10-13T09:23:42.311350Z",
     "iopub.status.idle": "2020-10-13T09:23:42.315927Z",
     "shell.execute_reply": "2020-10-13T09:23:42.315244Z"
    },
    "papermill": {
     "duration": 0.058283,
     "end_time": "2020-10-13T09:23:42.316044",
     "exception": false,
     "start_time": "2020-10-13T09:23:42.257761",
     "status": "completed"
    },
    "tags": []
   },
   "outputs": [
    {
     "data": {
      "text/plain": [
       "816"
      ]
     },
     "execution_count": 10,
     "metadata": {},
     "output_type": "execute_result"
    }
   ],
   "source": [
    "len(df)"
   ]
  },
  {
   "cell_type": "markdown",
   "metadata": {
    "papermill": {
     "duration": 0.047532,
     "end_time": "2020-10-13T09:23:42.412279",
     "exception": false,
     "start_time": "2020-10-13T09:23:42.364747",
     "status": "completed"
    },
    "tags": []
   },
   "source": [
    "**What are the datatypes of the different columns?**"
   ]
  },
  {
   "cell_type": "code",
   "execution_count": 11,
   "metadata": {
    "execution": {
     "iopub.execute_input": "2020-10-13T09:23:42.524032Z",
     "iopub.status.busy": "2020-10-13T09:23:42.523091Z",
     "iopub.status.idle": "2020-10-13T09:23:42.528892Z",
     "shell.execute_reply": "2020-10-13T09:23:42.528162Z"
    },
    "papermill": {
     "duration": 0.069104,
     "end_time": "2020-10-13T09:23:42.529053",
     "exception": false,
     "start_time": "2020-10-13T09:23:42.459949",
     "status": "completed"
    },
    "tags": []
   },
   "outputs": [
    {
     "data": {
      "text/plain": [
       "Rk_x            float64\n",
       "Player           object\n",
       "Age 17/18       float64\n",
       "Tm 17/18         object\n",
       "G 17/18         float64\n",
       "                 ...   \n",
       "2022-23          object\n",
       "2023-24          object\n",
       "2024-25          object\n",
       "Signed Using     object\n",
       "Guaranteed       object\n",
       "Length: 68, dtype: object"
      ]
     },
     "execution_count": 11,
     "metadata": {},
     "output_type": "execute_result"
    }
   ],
   "source": [
    "df.dtypes"
   ]
  },
  {
   "cell_type": "markdown",
   "metadata": {
    "papermill": {
     "duration": 0.065118,
     "end_time": "2020-10-13T09:23:42.651975",
     "exception": false,
     "start_time": "2020-10-13T09:23:42.586857",
     "status": "completed"
    },
    "tags": []
   },
   "source": [
    "**Drop unnecessary columns**\n",
    "\n",
    "For our further analysis some columns will no longer be necessary. For example salaries for future seasons will not be of interest. Let us have a look at the columns first."
   ]
  },
  {
   "cell_type": "code",
   "execution_count": 12,
   "metadata": {
    "execution": {
     "iopub.execute_input": "2020-10-13T09:23:42.757403Z",
     "iopub.status.busy": "2020-10-13T09:23:42.756774Z",
     "iopub.status.idle": "2020-10-13T09:23:42.760598Z",
     "shell.execute_reply": "2020-10-13T09:23:42.759983Z"
    },
    "papermill": {
     "duration": 0.058531,
     "end_time": "2020-10-13T09:23:42.760716",
     "exception": false,
     "start_time": "2020-10-13T09:23:42.702185",
     "status": "completed"
    },
    "tags": []
   },
   "outputs": [
    {
     "data": {
      "text/plain": [
       "Index(['Rk_x', 'Player', 'Age 17/18', 'Tm 17/18', 'G 17/18', 'GS 17/18',\n",
       "       'MP 17/18', 'FG 17/18', 'FGA 17/18', 'FG% 17/18', '3P 17/18',\n",
       "       '3PA 17/18', '3P% 17/18', '2P 17/18', '2PA 17/18', '2P% 17/18',\n",
       "       'eFG% 17/18', 'FT 17/18', 'FTA 17/18', 'FT% 17/18', 'ORB 17/18',\n",
       "       'DRB 17/18', 'TRB 17/18', 'AST 17/18', 'STL 17/18', 'BLK 17/18',\n",
       "       'TOV 17/18', 'PF 17/18', 'PTS 17/18', 'Rk_y', 'Pos', 'Age 18/19',\n",
       "       'Tm 18/19', 'G 18/19', 'GS 18/19', 'MP 18/19', 'FG 18/19', 'FGA 18/19',\n",
       "       'FG% 18/19', '3P 18/19', '3PA 18/19', '3P% 18/19', '2P 18/19',\n",
       "       '2PA 18/19', '2P% 18/19', 'eFG% 18/19', 'FT 18/19', 'FTA 18/19',\n",
       "       'FT% 18/19', 'ORB 18/19', 'DRB 18/19', 'TRB 18/19', 'AST 18/19',\n",
       "       'STL 18/19', 'BLK 18/19', 'TOV 18/19', 'PF 18/19', 'PTS 18/19', 'Rk',\n",
       "       'Tm', 'Salary 19/20', '2020-21', '2021-22', '2022-23', '2023-24',\n",
       "       '2024-25', 'Signed Using', 'Guaranteed'],\n",
       "      dtype='object')"
      ]
     },
     "execution_count": 12,
     "metadata": {},
     "output_type": "execute_result"
    }
   ],
   "source": [
    "# Columns of dataset\n",
    "df.columns"
   ]
  },
  {
   "cell_type": "code",
   "execution_count": 13,
   "metadata": {
    "execution": {
     "iopub.execute_input": "2020-10-13T09:23:42.865574Z",
     "iopub.status.busy": "2020-10-13T09:23:42.864476Z",
     "iopub.status.idle": "2020-10-13T09:23:42.870171Z",
     "shell.execute_reply": "2020-10-13T09:23:42.869492Z"
    },
    "papermill": {
     "duration": 0.060576,
     "end_time": "2020-10-13T09:23:42.870299",
     "exception": false,
     "start_time": "2020-10-13T09:23:42.809723",
     "status": "completed"
    },
    "tags": []
   },
   "outputs": [],
   "source": [
    "# Drop unnecessary columns\n",
    "df = df.drop(['Rk_x', 'Rk_y', 'Rk', 'Tm', '2020-21', '2021-22', '2022-23', '2023-24', '2024-25',\n",
    "              'Signed Using', 'Guaranteed'], axis = 1)"
   ]
  },
  {
   "cell_type": "markdown",
   "metadata": {
    "papermill": {
     "duration": 0.048521,
     "end_time": "2020-10-13T09:23:42.968718",
     "exception": false,
     "start_time": "2020-10-13T09:23:42.920197",
     "status": "completed"
    },
    "tags": []
   },
   "source": [
    "## Missing values\n",
    "\n",
    "How many missing values do we have in each column?"
   ]
  },
  {
   "cell_type": "code",
   "execution_count": 14,
   "metadata": {
    "execution": {
     "iopub.execute_input": "2020-10-13T09:23:43.077203Z",
     "iopub.status.busy": "2020-10-13T09:23:43.074699Z",
     "iopub.status.idle": "2020-10-13T09:23:43.081575Z",
     "shell.execute_reply": "2020-10-13T09:23:43.080945Z"
    },
    "papermill": {
     "duration": 0.063103,
     "end_time": "2020-10-13T09:23:43.081686",
     "exception": false,
     "start_time": "2020-10-13T09:23:43.018583",
     "status": "completed"
    },
    "tags": []
   },
   "outputs": [
    {
     "data": {
      "text/plain": [
       "Player            0\n",
       "Age 17/18       242\n",
       "Tm 17/18        242\n",
       "G 17/18         242\n",
       "GS 17/18        242\n",
       "MP 17/18        242\n",
       "FG 17/18        242\n",
       "FGA 17/18       242\n",
       "FG% 17/18       245\n",
       "3P 17/18        242\n",
       "3PA 17/18       242\n",
       "3P% 17/18       294\n",
       "2P 17/18        242\n",
       "2PA 17/18       242\n",
       "2P% 17/18       255\n",
       "eFG% 17/18      245\n",
       "FT 17/18        242\n",
       "FTA 17/18       242\n",
       "FT% 17/18       282\n",
       "ORB 17/18       242\n",
       "DRB 17/18       242\n",
       "TRB 17/18       242\n",
       "AST 17/18       242\n",
       "STL 17/18       242\n",
       "BLK 17/18       242\n",
       "TOV 17/18       242\n",
       "PF 17/18        242\n",
       "PTS 17/18       242\n",
       "Pos             249\n",
       "Age 18/19       249\n",
       "Tm 18/19        249\n",
       "G 18/19         249\n",
       "GS 18/19        249\n",
       "MP 18/19        249\n",
       "FG 18/19        249\n",
       "FGA 18/19       249\n",
       "FG% 18/19       253\n",
       "3P 18/19        249\n",
       "3PA 18/19       249\n",
       "3P% 18/19       286\n",
       "2P 18/19        249\n",
       "2PA 18/19       249\n",
       "2P% 18/19       259\n",
       "eFG% 18/19      253\n",
       "FT 18/19        249\n",
       "FTA 18/19       249\n",
       "FT% 18/19       276\n",
       "ORB 18/19       249\n",
       "DRB 18/19       249\n",
       "TRB 18/19       249\n",
       "AST 18/19       249\n",
       "STL 18/19       249\n",
       "BLK 18/19       249\n",
       "TOV 18/19       249\n",
       "PF 18/19        249\n",
       "PTS 18/19       249\n",
       "Salary 19/20    248\n",
       "dtype: int64"
      ]
     },
     "execution_count": 14,
     "metadata": {},
     "output_type": "execute_result"
    }
   ],
   "source": [
    "# Number of missing values for each column\n",
    "df.isnull().sum()"
   ]
  },
  {
   "cell_type": "markdown",
   "metadata": {
    "papermill": {
     "duration": 0.049293,
     "end_time": "2020-10-13T09:23:43.180581",
     "exception": false,
     "start_time": "2020-10-13T09:23:43.131288",
     "status": "completed"
    },
    "tags": []
   },
   "source": [
    "**Drop rows with no Salary, no Stats for every season and NaNs for eFG%**\n",
    "\n",
    "Some players did not play in the season 17/18 or in the season 18/19. Some players do not have a contract for the season 19/20. Therefore the missing values are reasonable. There are some additional missing values for percentages. For now we will drop the rows for missing effective Field Goal Percentage (eFG%). For our analysis the other Percentages will probably not even be needed."
   ]
  },
  {
   "cell_type": "code",
   "execution_count": 15,
   "metadata": {
    "execution": {
     "iopub.execute_input": "2020-10-13T09:23:43.296990Z",
     "iopub.status.busy": "2020-10-13T09:23:43.290577Z",
     "iopub.status.idle": "2020-10-13T09:23:43.321495Z",
     "shell.execute_reply": "2020-10-13T09:23:43.320776Z"
    },
    "papermill": {
     "duration": 0.091305,
     "end_time": "2020-10-13T09:23:43.321618",
     "exception": false,
     "start_time": "2020-10-13T09:23:43.230313",
     "status": "completed"
    },
    "tags": []
   },
   "outputs": [],
   "source": [
    "# Drop rows with NaN\n",
    "# Create Dataframe without stats for season 17/18\n",
    "df1 = df.dropna(subset = ['Salary 19/20', 'PTS 18/19', 'eFG% 18/19'])\n",
    "df1 = df1.reset_index()\n",
    "columns = list(df1.columns)\n",
    "for i in columns:\n",
    "    if '17/18' in i:\n",
    "        df1 = df1.drop([i], axis = 1)\n",
    "df1 = df1.reset_index()\n",
    "\n",
    "# Create Dataframe with stats for season 17/18\n",
    "df2 = df.dropna(subset = ['Salary 19/20', 'PTS 18/19', 'eFG% 18/19', 'PTS 17/18', 'eFG% 17/18'])\n",
    "df2 = df2.reset_index()"
   ]
  },
  {
   "cell_type": "markdown",
   "metadata": {
    "papermill": {
     "duration": 0.051117,
     "end_time": "2020-10-13T09:23:43.423517",
     "exception": false,
     "start_time": "2020-10-13T09:23:43.372400",
     "status": "completed"
    },
    "tags": []
   },
   "source": [
    "**Which positions do we have?**"
   ]
  },
  {
   "cell_type": "code",
   "execution_count": 16,
   "metadata": {
    "execution": {
     "iopub.execute_input": "2020-10-13T09:23:43.539799Z",
     "iopub.status.busy": "2020-10-13T09:23:43.538752Z",
     "iopub.status.idle": "2020-10-13T09:23:43.542627Z",
     "shell.execute_reply": "2020-10-13T09:23:43.543398Z"
    },
    "papermill": {
     "duration": 0.067293,
     "end_time": "2020-10-13T09:23:43.543628",
     "exception": false,
     "start_time": "2020-10-13T09:23:43.476335",
     "status": "completed"
    },
    "tags": []
   },
   "outputs": [
    {
     "name": "stdout",
     "output_type": "stream",
     "text": [
      "['C' 'PF' 'SF' 'PG' 'SG' 'PF-SF' 'SF-SG' 'SG-PF' 'C-PF' 'SG-SF']\n",
      "['C' 'PF' 'SF' 'PG' 'SG' 'PF-SF' 'SF-SG' 'SG-PF' 'C-PF' 'SG-SF']\n"
     ]
    }
   ],
   "source": [
    "# Get unique positions\n",
    "print(df1.Pos.unique())\n",
    "print(df2.Pos.unique())"
   ]
  },
  {
   "cell_type": "markdown",
   "metadata": {
    "papermill": {
     "duration": 0.053962,
     "end_time": "2020-10-13T09:23:43.655003",
     "exception": false,
     "start_time": "2020-10-13T09:23:43.601041",
     "status": "completed"
    },
    "tags": []
   },
   "source": [
    "We only want five positions: PG, SG, SF, PF, C."
   ]
  },
  {
   "cell_type": "code",
   "execution_count": 17,
   "metadata": {
    "execution": {
     "iopub.execute_input": "2020-10-13T09:23:43.774718Z",
     "iopub.status.busy": "2020-10-13T09:23:43.769165Z",
     "iopub.status.idle": "2020-10-13T09:23:43.788366Z",
     "shell.execute_reply": "2020-10-13T09:23:43.787825Z"
    },
    "papermill": {
     "duration": 0.078173,
     "end_time": "2020-10-13T09:23:43.788514",
     "exception": false,
     "start_time": "2020-10-13T09:23:43.710341",
     "status": "completed"
    },
    "tags": []
   },
   "outputs": [],
   "source": [
    "# Replace duplicate positions with first position.\n",
    "df1 = df1.replace({'SF-SG': 'SF', 'PF-SF': 'PF', 'SG-PF': 'SG', 'C-PF': 'C', 'SG-SF': 'SG'})\n",
    "df2 = df2.replace({'SF-SG': 'SF', 'PF-SF': 'PF', 'SG-PF': 'SG', 'C-PF': 'C', 'SG-SF': 'SG'})"
   ]
  },
  {
   "cell_type": "markdown",
   "metadata": {
    "papermill": {
     "duration": 0.049419,
     "end_time": "2020-10-13T09:23:43.888236",
     "exception": false,
     "start_time": "2020-10-13T09:23:43.838817",
     "status": "completed"
    },
    "tags": []
   },
   "source": [
    "## Absolute growth of main stats from 17/18 to 18/19\n",
    "\n",
    "In our analysis we will use the stats from the season 17/18 for our second dataframe (df2) to get the absolute growth of the main stats. "
   ]
  },
  {
   "cell_type": "code",
   "execution_count": 18,
   "metadata": {
    "execution": {
     "iopub.execute_input": "2020-10-13T09:23:44.001545Z",
     "iopub.status.busy": "2020-10-13T09:23:44.000619Z",
     "iopub.status.idle": "2020-10-13T09:23:44.026753Z",
     "shell.execute_reply": "2020-10-13T09:23:44.026052Z"
    },
    "papermill": {
     "duration": 0.089124,
     "end_time": "2020-10-13T09:23:44.026869",
     "exception": false,
     "start_time": "2020-10-13T09:23:43.937745",
     "status": "completed"
    },
    "tags": []
   },
   "outputs": [],
   "source": [
    "# Get absolute growth\n",
    "# List of stats of which we want the growth\n",
    "list_growth = ['eFG%','TRB', 'AST', 'STL', 'BLK', 'TOV', 'PF', 'PTS']\n",
    "\n",
    "# Add absolute growth columns\n",
    "for i in list_growth:\n",
    "    df2[i + ' +-'] = df2[i + ' 18/19'] - df2[i + ' 17/18']\n",
    "    \n",
    "# Drop 17/18 columns\n",
    "columns = list(df2.columns)\n",
    "for i in columns:\n",
    "    if '17/18' in i:\n",
    "        df2 = df2.drop([i], axis = 1)"
   ]
  },
  {
   "cell_type": "code",
   "execution_count": 19,
   "metadata": {
    "execution": {
     "iopub.execute_input": "2020-10-13T09:23:44.132972Z",
     "iopub.status.busy": "2020-10-13T09:23:44.132158Z",
     "iopub.status.idle": "2020-10-13T09:23:44.136349Z",
     "shell.execute_reply": "2020-10-13T09:23:44.135246Z"
    },
    "papermill": {
     "duration": 0.059005,
     "end_time": "2020-10-13T09:23:44.136587",
     "exception": false,
     "start_time": "2020-10-13T09:23:44.077582",
     "status": "completed"
    },
    "tags": []
   },
   "outputs": [
    {
     "name": "stdout",
     "output_type": "stream",
     "text": [
      "(431, 32)\n",
      "(358, 39)\n"
     ]
    }
   ],
   "source": [
    "print(df1.shape)\n",
    "print(df2.shape)"
   ]
  },
  {
   "cell_type": "markdown",
   "metadata": {
    "papermill": {
     "duration": 0.05114,
     "end_time": "2020-10-13T09:23:44.240078",
     "exception": false,
     "start_time": "2020-10-13T09:23:44.188938",
     "status": "completed"
    },
    "tags": []
   },
   "source": [
    "So for our further analysis we have 358 rows (Players) with stats for the two seasons and salaries for 19/20. If we leave out the stats of the season 17/18 we have 73 additional rows."
   ]
  },
  {
   "cell_type": "markdown",
   "metadata": {
    "papermill": {
     "duration": 0.049847,
     "end_time": "2020-10-13T09:23:44.388691",
     "exception": false,
     "start_time": "2020-10-13T09:23:44.338844",
     "status": "completed"
    },
    "tags": []
   },
   "source": [
    "# 2. Exploring our dataset\n",
    "\n",
    "## Analysis of target variable Salaries (in 1000)\n",
    "\n",
    "Which players have the highest salary?"
   ]
  },
  {
   "cell_type": "code",
   "execution_count": 20,
   "metadata": {
    "execution": {
     "iopub.execute_input": "2020-10-13T09:23:44.502643Z",
     "iopub.status.busy": "2020-10-13T09:23:44.501982Z",
     "iopub.status.idle": "2020-10-13T09:23:44.751593Z",
     "shell.execute_reply": "2020-10-13T09:23:44.750927Z"
    },
    "papermill": {
     "duration": 0.313037,
     "end_time": "2020-10-13T09:23:44.751708",
     "exception": false,
     "start_time": "2020-10-13T09:23:44.438671",
     "status": "completed"
    },
    "tags": []
   },
   "outputs": [
    {
     "data": {
      "text/plain": [
       "(array([0, 1, 2, 3, 4]), <a list of 5 Text major ticklabel objects>)"
      ]
     },
     "execution_count": 20,
     "metadata": {},
     "output_type": "execute_result"
    },
    {
     "data": {
      "image/png": "[encoded data removed]",
      "text/plain": [
       "<Figure size 360x360 with 1 Axes>"
      ]
     },
     "metadata": {
      "needs_background": "light"
     },
     "output_type": "display_data"
    }
   ],
   "source": [
    "# Setup dataframe\n",
    "df_sal = df1[['Player', 'Salary 19/20']]\n",
    "df_sal.sort_values(by = 'Salary 19/20', ascending = False, inplace = True)\n",
    "\n",
    "# Create barchart\n",
    "sns.catplot(x = 'Player', y = 'Salary 19/20', kind = 'bar', data = df_sal.head()).set(xlabel = None)\n",
    "plt.title('Players with highest salary (in 1000)')\n",
    "plt.ylim([35000, 40000])\n",
    "plt.xticks(rotation = 90)"
   ]
  },
  {
   "cell_type": "markdown",
   "metadata": {
    "papermill": {
     "duration": 0.051127,
     "end_time": "2020-10-13T09:23:44.856337",
     "exception": false,
     "start_time": "2020-10-13T09:23:44.805210",
     "status": "completed"
    },
    "tags": []
   },
   "source": [
    "A quick summary of the main statistical measures:"
   ]
  },
  {
   "cell_type": "code",
   "execution_count": 21,
   "metadata": {
    "execution": {
     "iopub.execute_input": "2020-10-13T09:23:44.965573Z",
     "iopub.status.busy": "2020-10-13T09:23:44.964646Z",
     "iopub.status.idle": "2020-10-13T09:23:44.973032Z",
     "shell.execute_reply": "2020-10-13T09:23:44.973521Z"
    },
    "papermill": {
     "duration": 0.065931,
     "end_time": "2020-10-13T09:23:44.973675",
     "exception": false,
     "start_time": "2020-10-13T09:23:44.907744",
     "status": "completed"
    },
    "tags": []
   },
   "outputs": [
    {
     "data": {
      "text/plain": [
       "count      431.000000\n",
       "mean      7988.767513\n",
       "std       9314.626636\n",
       "min         50.000000\n",
       "25%       1677.794500\n",
       "50%       3551.100000\n",
       "75%      11589.559500\n",
       "max      40231.758000\n",
       "Name: Salary 19/20, dtype: float64"
      ]
     },
     "execution_count": 21,
     "metadata": {},
     "output_type": "execute_result"
    }
   ],
   "source": [
    "# Statistics summary\n",
    "df1['Salary 19/20'].describe()"
   ]
  },
  {
   "cell_type": "markdown",
   "metadata": {
    "papermill": {
     "duration": 0.051424,
     "end_time": "2020-10-13T09:23:45.077606",
     "exception": false,
     "start_time": "2020-10-13T09:23:45.026182",
     "status": "completed"
    },
    "tags": []
   },
   "source": [
    "How does the distribution look like?"
   ]
  },
  {
   "cell_type": "code",
   "execution_count": 22,
   "metadata": {
    "execution": {
     "iopub.execute_input": "2020-10-13T09:23:45.198261Z",
     "iopub.status.busy": "2020-10-13T09:23:45.197596Z",
     "iopub.status.idle": "2020-10-13T09:23:45.361618Z",
     "shell.execute_reply": "2020-10-13T09:23:45.360988Z"
    },
    "papermill": {
     "duration": 0.231694,
     "end_time": "2020-10-13T09:23:45.361748",
     "exception": false,
     "start_time": "2020-10-13T09:23:45.130054",
     "status": "completed"
    },
    "tags": []
   },
   "outputs": [
    {
     "data": {
      "text/plain": [
       "<matplotlib.axes._subplots.AxesSubplot at 0x7f1689d7d5d0>"
      ]
     },
     "execution_count": 22,
     "metadata": {},
     "output_type": "execute_result"
    },
    {
     "data": {
      "image/png": "[encoded data removed]",
      "text/plain": [
       "<Figure size 432x288 with 1 Axes>"
      ]
     },
     "metadata": {
      "needs_background": "light"
     },
     "output_type": "display_data"
    }
   ],
   "source": [
    "# Histogram\n",
    "sns.distplot(df1['Salary 19/20'])"
   ]
  },
  {
   "cell_type": "markdown",
   "metadata": {
    "papermill": {
     "duration": 0.052564,
     "end_time": "2020-10-13T09:23:45.467664",
     "exception": false,
     "start_time": "2020-10-13T09:23:45.415100",
     "status": "completed"
    },
    "tags": []
   },
   "source": [
    "**What are the insights?**\n",
    "\n",
    "1. Large standard deviation which means that the salary is spread out\n",
    "2. Salary is not normally distributed\n",
    "3. Right-skewed distribution\n",
    "\n",
    "For most of the prediction models it is important that the data is normally distributed. Let us keep that in mind when building up the model."
   ]
  },
  {
   "cell_type": "markdown",
   "metadata": {
    "papermill": {
     "duration": 0.053417,
     "end_time": "2020-10-13T09:23:45.580014",
     "exception": false,
     "start_time": "2020-10-13T09:23:45.526597",
     "status": "completed"
    },
    "tags": []
   },
   "source": [
    "## Analysis of most important player stats\n",
    "\n",
    "Now let us look at the variables that most probably explain a large part of the salary of NBA players. We are going to focus on points, assists, steals and rebounds per game of the season 18/19."
   ]
  },
  {
   "cell_type": "markdown",
   "metadata": {
    "papermill": {
     "duration": 0.053613,
     "end_time": "2020-10-13T09:23:45.686866",
     "exception": false,
     "start_time": "2020-10-13T09:23:45.633253",
     "status": "completed"
    },
    "tags": []
   },
   "source": [
    "**What are the leaders in each category?**"
   ]
  },
  {
   "cell_type": "code",
   "execution_count": 23,
   "metadata": {
    "execution": {
     "iopub.execute_input": "2020-10-13T09:23:45.808372Z",
     "iopub.status.busy": "2020-10-13T09:23:45.803959Z",
     "iopub.status.idle": "2020-10-13T09:23:46.339515Z",
     "shell.execute_reply": "2020-10-13T09:23:46.339964Z"
    },
    "papermill": {
     "duration": 0.599339,
     "end_time": "2020-10-13T09:23:46.340121",
     "exception": false,
     "start_time": "2020-10-13T09:23:45.740782",
     "status": "completed"
    },
    "tags": []
   },
   "outputs": [
    {
     "data": {
      "text/plain": [
       "[Text(0, 0.5, '')]"
      ]
     },
     "execution_count": 23,
     "metadata": {},
     "output_type": "execute_result"
    },
    {
     "data": {
      "image/png": "[encoded data removed]",
      "text/plain": [
       "<Figure size 1440x1080 with 4 Axes>"
      ]
     },
     "metadata": {
      "needs_background": "light"
     },
     "output_type": "display_data"
    }
   ],
   "source": [
    "# Setup dataframes\n",
    "df_pts = df1[['Player', 'PTS 18/19']]\n",
    "df_pts.sort_values(by = 'PTS 18/19', ascending = False, inplace = True)\n",
    "df_ast = df1[['Player', 'AST 18/19']]\n",
    "df_ast.sort_values(by = 'AST 18/19', ascending = False, inplace = True)\n",
    "df_stl = df1[['Player', 'STL 18/19']]\n",
    "df_stl.sort_values(by = 'STL 18/19', ascending = False, inplace = True)\n",
    "df_trb = df1[['Player', 'TRB 18/19']]\n",
    "df_trb.sort_values(by = 'TRB 18/19', ascending = False, inplace = True)\n",
    "\n",
    "# Set up figure\n",
    "f, axes = plt.subplots(2, 2, figsize=(20, 15))\n",
    "sns.despine(left=True)\n",
    "\n",
    "# Create barcharts\n",
    "sns.barplot(x = 'PTS 18/19', y = 'Player', data = df_pts.head(), color = \"b\", ax = axes[0, 0]).set(ylabel = None)\n",
    "sns.barplot(x = 'AST 18/19', y = 'Player', data = df_ast.head(), color = \"r\", ax = axes[0, 1]).set(ylabel = None)\n",
    "sns.barplot(x = 'STL 18/19', y = 'Player', data = df_stl.head(), color = \"g\", ax = axes[1, 0]).set(ylabel = None)\n",
    "sns.barplot(x = 'TRB 18/19', y = 'Player', data = df_trb.head(), color = \"m\", ax = axes[1, 1]).set(ylabel = None)"
   ]
  },
  {
   "cell_type": "markdown",
   "metadata": {
    "papermill": {
     "duration": 0.054608,
     "end_time": "2020-10-13T09:23:46.449365",
     "exception": false,
     "start_time": "2020-10-13T09:23:46.394757",
     "status": "completed"
    },
    "tags": []
   },
   "source": [
    "**How do the distributions look like?**"
   ]
  },
  {
   "cell_type": "code",
   "execution_count": 24,
   "metadata": {
    "execution": {
     "iopub.execute_input": "2020-10-13T09:23:46.571648Z",
     "iopub.status.busy": "2020-10-13T09:23:46.570951Z",
     "iopub.status.idle": "2020-10-13T09:23:47.325853Z",
     "shell.execute_reply": "2020-10-13T09:23:47.326344Z"
    },
    "papermill": {
     "duration": 0.821552,
     "end_time": "2020-10-13T09:23:47.326520",
     "exception": false,
     "start_time": "2020-10-13T09:23:46.504968",
     "status": "completed"
    },
    "tags": []
   },
   "outputs": [
    {
     "data": {
      "text/plain": [
       "<matplotlib.axes._subplots.AxesSubplot at 0x7f1689ac98d0>"
      ]
     },
     "execution_count": 24,
     "metadata": {},
     "output_type": "execute_result"
    },
    {
     "data": {
      "image/png": "[encoded data removed]",
      "text/plain": [
       "<Figure size 1440x1080 with 4 Axes>"
      ]
     },
     "metadata": {
      "needs_background": "light"
     },
     "output_type": "display_data"
    }
   ],
   "source": [
    "# Set up figure\n",
    "f, axes = plt.subplots(2, 2, figsize=(20, 15))\n",
    "sns.despine(left=True)\n",
    "\n",
    "# Histograms\n",
    "sns.distplot(df1['PTS 18/19'], color = \"b\", ax = axes[0, 0])\n",
    "sns.distplot(df1['AST 18/19'], color = \"r\", ax = axes[0, 1])\n",
    "sns.distplot(df1['STL 18/19'], color = \"g\", ax = axes[1, 0])\n",
    "sns.distplot(df1['TRB 18/19'], color = \"m\", ax = axes[1, 1])"
   ]
  },
  {
   "cell_type": "markdown",
   "metadata": {
    "papermill": {
     "duration": 0.055881,
     "end_time": "2020-10-13T09:23:47.439256",
     "exception": false,
     "start_time": "2020-10-13T09:23:47.383375",
     "status": "completed"
    },
    "tags": []
   },
   "source": [
    "The most important statistics in basketball are also not normally but right-skewed distributed."
   ]
  },
  {
   "cell_type": "markdown",
   "metadata": {
    "papermill": {
     "duration": 0.063179,
     "end_time": "2020-10-13T09:23:47.558852",
     "exception": false,
     "start_time": "2020-10-13T09:23:47.495673",
     "status": "completed"
    },
    "tags": []
   },
   "source": [
    "**Relationship with possible features**\n",
    "\n",
    "Let us see how the relationship between some of the most important statistics in basketball and salary looks like. For now we will only focus on the statistics of the season 2018/19. Again we will look at the relationship with points, assists, steals and rebounds per game."
   ]
  },
  {
   "cell_type": "code",
   "execution_count": 25,
   "metadata": {
    "execution": {
     "iopub.execute_input": "2020-10-13T09:23:47.689043Z",
     "iopub.status.busy": "2020-10-13T09:23:47.684981Z",
     "iopub.status.idle": "2020-10-13T09:23:48.797418Z",
     "shell.execute_reply": "2020-10-13T09:23:48.797932Z"
    },
    "papermill": {
     "duration": 1.182905,
     "end_time": "2020-10-13T09:23:48.798077",
     "exception": false,
     "start_time": "2020-10-13T09:23:47.615172",
     "status": "completed"
    },
    "tags": []
   },
   "outputs": [
    {
     "data": {
      "text/plain": [
       "<matplotlib.axes._subplots.AxesSubplot at 0x7f16898ae9d0>"
      ]
     },
     "execution_count": 25,
     "metadata": {},
     "output_type": "execute_result"
    },
    {
     "data": {
      "image/png": "[encoded data removed]",
      "text/plain": [
       "<Figure size 1440x1080 with 4 Axes>"
      ]
     },
     "metadata": {
      "needs_background": "light"
     },
     "output_type": "display_data"
    }
   ],
   "source": [
    "# Set up figure\n",
    "f, axes = plt.subplots(2, 2, figsize=(20, 15))\n",
    "\n",
    "# Regressionplot\n",
    "sns.regplot(x = df1['PTS 18/19'], y = df1['Salary 19/20'], color=\"b\", ax=axes[0, 0])\n",
    "sns.regplot(x = df1['AST 18/19'], y = df1['Salary 19/20'], color=\"r\", ax=axes[0, 1])\n",
    "sns.regplot(x = df1['STL 18/19'], y = df1['Salary 19/20'], color=\"g\", ax=axes[1, 0])\n",
    "sns.regplot(x = df1['TRB 18/19'], y = df1['Salary 19/20'], color=\"m\", ax=axes[1, 1])"
   ]
  },
  {
   "cell_type": "markdown",
   "metadata": {
    "papermill": {
     "duration": 0.060524,
     "end_time": "2020-10-13T09:23:48.919585",
     "exception": false,
     "start_time": "2020-10-13T09:23:48.859061",
     "status": "completed"
    },
    "tags": []
   },
   "source": [
    "As one would expect there is a positive linear relationship between all these features and the salary."
   ]
  },
  {
   "cell_type": "code",
   "execution_count": 26,
   "metadata": {
    "execution": {
     "iopub.execute_input": "2020-10-13T09:23:49.062770Z",
     "iopub.status.busy": "2020-10-13T09:23:49.058114Z",
     "iopub.status.idle": "2020-10-13T09:23:49.324349Z",
     "shell.execute_reply": "2020-10-13T09:23:49.323825Z"
    },
    "papermill": {
     "duration": 0.335655,
     "end_time": "2020-10-13T09:23:49.324476",
     "exception": false,
     "start_time": "2020-10-13T09:23:48.988821",
     "status": "completed"
    },
    "tags": []
   },
   "outputs": [
    {
     "data": {
      "text/plain": [
       "<matplotlib.axes._subplots.AxesSubplot at 0x7f168977b590>"
      ]
     },
     "execution_count": 26,
     "metadata": {},
     "output_type": "execute_result"
    },
    {
     "data": {
      "image/png": "[encoded data removed]",
      "text/plain": [
       "<Figure size 432x288 with 1 Axes>"
      ]
     },
     "metadata": {
      "needs_background": "light"
     },
     "output_type": "display_data"
    }
   ],
   "source": [
    "# Relationship with effecitve field goal percentage\n",
    "sns.regplot(x = df1['eFG% 18/19'], y = df1['Salary 19/20'])"
   ]
  },
  {
   "cell_type": "markdown",
   "metadata": {
    "papermill": {
     "duration": 0.061291,
     "end_time": "2020-10-13T09:23:49.447708",
     "exception": false,
     "start_time": "2020-10-13T09:23:49.386417",
     "status": "completed"
    },
    "tags": []
   },
   "source": [
    "We chose effective field goal percentage instead of normal field goal percentage because it accounts for the fact that three-point field goals count for three points while field goals only count for two points. Here we can hardly observe a positive linear relationship. There are players with a high eFG% but with low salaries. But there are no players with a low eFG% and a high salary."
   ]
  },
  {
   "cell_type": "code",
   "execution_count": 27,
   "metadata": {
    "execution": {
     "iopub.execute_input": "2020-10-13T09:23:49.578405Z",
     "iopub.status.busy": "2020-10-13T09:23:49.577720Z",
     "iopub.status.idle": "2020-10-13T09:23:49.838027Z",
     "shell.execute_reply": "2020-10-13T09:23:49.838659Z"
    },
    "papermill": {
     "duration": 0.329112,
     "end_time": "2020-10-13T09:23:49.838836",
     "exception": false,
     "start_time": "2020-10-13T09:23:49.509724",
     "status": "completed"
    },
    "tags": []
   },
   "outputs": [
    {
     "data": {
      "text/plain": [
       "<matplotlib.axes._subplots.AxesSubplot at 0x7f1689726a50>"
      ]
     },
     "execution_count": 27,
     "metadata": {},
     "output_type": "execute_result"
    },
    {
     "data": {
      "image/png": "[encoded data removed]",
      "text/plain": [
       "<Figure size 432x288 with 1 Axes>"
      ]
     },
     "metadata": {
      "needs_background": "light"
     },
     "output_type": "display_data"
    }
   ],
   "source": [
    "# Relationship with minutes played per game\n",
    "sns.regplot(x = df1['MP 18/19'], y = df1['Salary 19/20'])"
   ]
  },
  {
   "cell_type": "markdown",
   "metadata": {
    "papermill": {
     "duration": 0.062658,
     "end_time": "2020-10-13T09:23:49.968414",
     "exception": false,
     "start_time": "2020-10-13T09:23:49.905756",
     "status": "completed"
    },
    "tags": []
   },
   "source": [
    "There is also a positive relationship with minutes played per game. It is possibly an exponential relationship. But we need to be careful when analysing this relationship. One can assume that good stats cause a higher salary in the following season and at the same time more minutes per game. Therefore the reason for this positive relationship are most probably the stats.  "
   ]
  },
  {
   "cell_type": "code",
   "execution_count": 28,
   "metadata": {
    "execution": {
     "iopub.execute_input": "2020-10-13T09:23:50.104233Z",
     "iopub.status.busy": "2020-10-13T09:23:50.103531Z",
     "iopub.status.idle": "2020-10-13T09:23:50.379798Z",
     "shell.execute_reply": "2020-10-13T09:23:50.380520Z"
    },
    "papermill": {
     "duration": 0.345166,
     "end_time": "2020-10-13T09:23:50.380714",
     "exception": false,
     "start_time": "2020-10-13T09:23:50.035548",
     "status": "completed"
    },
    "tags": []
   },
   "outputs": [
    {
     "data": {
      "text/plain": [
       "<matplotlib.axes._subplots.AxesSubplot at 0x7f16896ae090>"
      ]
     },
     "execution_count": 28,
     "metadata": {},
     "output_type": "execute_result"
    },
    {
     "data": {
      "image/png": "[encoded data removed]",
      "text/plain": [
       "<Figure size 432x288 with 1 Axes>"
      ]
     },
     "metadata": {
      "needs_background": "light"
     },
     "output_type": "display_data"
    }
   ],
   "source": [
    "# Relationship with age\n",
    "sns.regplot(x = df1['Age 18/19'], y = df1['Salary 19/20'])"
   ]
  },
  {
   "cell_type": "markdown",
   "metadata": {
    "papermill": {
     "duration": 0.06928,
     "end_time": "2020-10-13T09:23:50.520282",
     "exception": false,
     "start_time": "2020-10-13T09:23:50.451002",
     "status": "completed"
    },
    "tags": []
   },
   "source": [
    "We can say that there is no linear relationship between age and salary."
   ]
  },
  {
   "cell_type": "code",
   "execution_count": 29,
   "metadata": {
    "execution": {
     "iopub.execute_input": "2020-10-13T09:23:50.666097Z",
     "iopub.status.busy": "2020-10-13T09:23:50.665019Z",
     "iopub.status.idle": "2020-10-13T09:23:50.829930Z",
     "shell.execute_reply": "2020-10-13T09:23:50.829293Z"
    },
    "papermill": {
     "duration": 0.244637,
     "end_time": "2020-10-13T09:23:50.830042",
     "exception": false,
     "start_time": "2020-10-13T09:23:50.585405",
     "status": "completed"
    },
    "tags": []
   },
   "outputs": [
    {
     "data": {
      "text/plain": [
       "<matplotlib.axes._subplots.AxesSubplot at 0x7f1689624d10>"
      ]
     },
     "execution_count": 29,
     "metadata": {},
     "output_type": "execute_result"
    },
    {
     "data": {
      "image/png": "[encoded data removed]",
      "text/plain": [
       "<Figure size 432x288 with 1 Axes>"
      ]
     },
     "metadata": {
      "needs_background": "light"
     },
     "output_type": "display_data"
    }
   ],
   "source": [
    "# Relationship with Position\n",
    "sns.boxplot(x = 'Pos', y = 'Salary 19/20', data = df1, order = ['PG', 'SG', 'SF', 'PF', 'C'])"
   ]
  },
  {
   "cell_type": "markdown",
   "metadata": {
    "papermill": {
     "duration": 0.065305,
     "end_time": "2020-10-13T09:23:50.961210",
     "exception": false,
     "start_time": "2020-10-13T09:23:50.895905",
     "status": "completed"
    },
    "tags": []
   },
   "source": [
    "Therefore we can say that it is not possible to identify any order or correlation. This is important for Encoding this variable later on."
   ]
  },
  {
   "cell_type": "markdown",
   "metadata": {
    "papermill": {
     "duration": 0.065768,
     "end_time": "2020-10-13T09:23:51.093256",
     "exception": false,
     "start_time": "2020-10-13T09:23:51.027488",
     "status": "completed"
    },
    "tags": []
   },
   "source": [
    "**Correlation matrix**\n",
    "\n",
    "The analysis until now was based on our intuition and what we think is important for explaining salary. Let us do a more objective analysis and get a perfect overview of all relationships of our variables. Therefore we will use a heatmap."
   ]
  },
  {
   "cell_type": "code",
   "execution_count": 30,
   "metadata": {
    "execution": {
     "iopub.execute_input": "2020-10-13T09:23:51.239605Z",
     "iopub.status.busy": "2020-10-13T09:23:51.238927Z",
     "iopub.status.idle": "2020-10-13T09:23:51.918064Z",
     "shell.execute_reply": "2020-10-13T09:23:51.917463Z"
    },
    "papermill": {
     "duration": 0.75907,
     "end_time": "2020-10-13T09:23:51.918181",
     "exception": false,
     "start_time": "2020-10-13T09:23:51.159111",
     "status": "completed"
    },
    "tags": []
   },
   "outputs": [
    {
     "data": {
      "text/plain": [
       "<matplotlib.axes._subplots.AxesSubplot at 0x7f168973e1d0>"
      ]
     },
     "execution_count": 30,
     "metadata": {},
     "output_type": "execute_result"
    },
    {
     "data": {
      "image/png": "[encoded data removed]",
      "text/plain": [
       "<Figure size 1080x864 with 2 Axes>"
      ]
     },
     "metadata": {},
     "output_type": "display_data"
    }
   ],
   "source": [
    "sns.set(style = \"white\")\n",
    "cor_matrix = df1.loc[:, 'Age 18/19': 'Salary 19/20'].corr()\n",
    "\n",
    "# Generate a mask for the upper triangle\n",
    "mask = np.triu(np.ones_like(cor_matrix, dtype = np.bool))\n",
    "\n",
    "plt.figure(figsize = (15, 12))\n",
    "\n",
    "# Generate a custom diverging colormap\n",
    "cmap = sns.diverging_palette(220, 10, as_cmap = True)\n",
    "\n",
    "sns.heatmap(cor_matrix, mask = mask, cmap = cmap, center = 0,\n",
    "            square = True, linewidths = .5, cbar_kws = {\"shrink\": .5})"
   ]
  },
  {
   "cell_type": "markdown",
   "metadata": {
    "papermill": {
     "duration": 0.069161,
     "end_time": "2020-10-13T09:23:52.055523",
     "exception": false,
     "start_time": "2020-10-13T09:23:51.986362",
     "status": "completed"
    },
    "tags": []
   },
   "source": [
    "**Again: What are the insights?**\n",
    "\n",
    "1. Multicollinearity:\n",
    "\n",
    "The first thing we can observe in this triangular heatmap is that there are a lot of red coloured squares. This is an important information for our prediction model. These variables with such a high correlation give almost the same information to our prediction model and would only raise the variance of our estimation. We have to keep that in mind when building up the model.\n",
    "\n",
    "\n",
    "\n",
    "2. Correlations with Salary 2019/20:\n",
    "\n",
    "As we already analysed there is a linear relationship between salary and the four main stats per game. But there are also other variables that should be taken into account. For example fouls per game (PF 18/19) play a big role for explaining the salary. \n",
    "\n",
    "We have to be careful when analysing the correlation of salary and minutes played (MP) and games started (GS). We can not simply say that players who play more automatically earn more. As the offensive and defensive stats determine how long the coach lets the player in the game and also determine the salary of next season the relationship is not causal. What we can use in our model is total games played (G). This statistic can for example measure the relationship of a players vulnerability and his salary.\n",
    "\n",
    "We can also not say that more Turnovers (TOV) lead to a higher salary because of the high correlation. This is of course not the case. A player with good offensive and defensive stats gets more playing time and also a higher salary. It is therefore more reasonable to say that good players with high salary have more turnovers on average because they get more playing time. "
   ]
  },
  {
   "cell_type": "markdown",
   "metadata": {
    "papermill": {
     "duration": 0.068298,
     "end_time": "2020-10-13T09:23:52.193277",
     "exception": false,
     "start_time": "2020-10-13T09:23:52.124979",
     "status": "completed"
    },
    "tags": []
   },
   "source": [
    "**What about the relationship between the absolute changes and salary?**\n",
    "\n",
    "It would be interesting to know if this also plays a role. A player who was performing better in season 18/19 than 17/18 and therefore is expected to get even better might have a higher salary. Let us have a look."
   ]
  },
  {
   "cell_type": "code",
   "execution_count": 31,
   "metadata": {
    "execution": {
     "iopub.execute_input": "2020-10-13T09:23:52.343632Z",
     "iopub.status.busy": "2020-10-13T09:23:52.338642Z",
     "iopub.status.idle": "2020-10-13T09:23:52.614269Z",
     "shell.execute_reply": "2020-10-13T09:23:52.614800Z"
    },
    "papermill": {
     "duration": 0.353365,
     "end_time": "2020-10-13T09:23:52.614946",
     "exception": false,
     "start_time": "2020-10-13T09:23:52.261581",
     "status": "completed"
    },
    "tags": []
   },
   "outputs": [
    {
     "data": {
      "text/plain": [
       "<matplotlib.axes._subplots.AxesSubplot at 0x7f1670660ed0>"
      ]
     },
     "execution_count": 31,
     "metadata": {},
     "output_type": "execute_result"
    },
    {
     "data": {
      "image/png": "[encoded data removed]",
      "text/plain": [
       "<Figure size 720x576 with 2 Axes>"
      ]
     },
     "metadata": {},
     "output_type": "display_data"
    }
   ],
   "source": [
    "cor_matrix = df2.loc[:, ['eFG% +-','TRB +-', 'AST +-', 'STL +-', 'BLK +-', 'TOV +-', 'PF +-', 'PTS +-', \n",
    "                        'Salary 19/20']].corr()\n",
    "\n",
    "# Generate a mask for the upper triangle\n",
    "mask = np.triu(np.ones_like(cor_matrix, dtype = np.bool))\n",
    "\n",
    "plt.figure(figsize = (10, 8))\n",
    "\n",
    "# Generate a custom diverging colormap\n",
    "cmap = sns.diverging_palette(220, 10, as_cmap = True)\n",
    "\n",
    "sns.heatmap(cor_matrix, mask = mask, cmap = cmap, center = 0,\n",
    "            square = True, linewidths = .5, cbar_kws = {\"shrink\": .5})"
   ]
  },
  {
   "cell_type": "markdown",
   "metadata": {
    "papermill": {
     "duration": 0.068576,
     "end_time": "2020-10-13T09:23:52.753192",
     "exception": false,
     "start_time": "2020-10-13T09:23:52.684616",
     "status": "completed"
    },
    "tags": []
   },
   "source": [
    "There seem to be weak positive to no linear relationships between the absolute changes and salary. That is why we will leave out the absolute changes and therefore the stats of season 17/18 in our prediction model."
   ]
  },
  {
   "cell_type": "markdown",
   "metadata": {
    "papermill": {
     "duration": 0.068892,
     "end_time": "2020-10-13T09:23:52.892621",
     "exception": false,
     "start_time": "2020-10-13T09:23:52.823729",
     "status": "completed"
    },
    "tags": []
   },
   "source": [
    "# 3. Data Preparation\n",
    "\n",
    "**Define target variable and features**"
   ]
  },
  {
   "cell_type": "code",
   "execution_count": 32,
   "metadata": {
    "execution": {
     "iopub.execute_input": "2020-10-13T09:23:53.041135Z",
     "iopub.status.busy": "2020-10-13T09:23:53.040312Z",
     "iopub.status.idle": "2020-10-13T09:23:53.044377Z",
     "shell.execute_reply": "2020-10-13T09:23:53.043381Z"
    },
    "papermill": {
     "duration": 0.082625,
     "end_time": "2020-10-13T09:23:53.044582",
     "exception": false,
     "start_time": "2020-10-13T09:23:52.961957",
     "status": "completed"
    },
    "tags": []
   },
   "outputs": [
    {
     "name": "stdout",
     "output_type": "stream",
     "text": [
      "(431, 25)\n",
      "(431,)\n"
     ]
    }
   ],
   "source": [
    "y = df1.loc[:, 'Salary 19/20']\n",
    "\n",
    "x = df1.loc[:, ['Pos', 'Age 18/19', 'G 18/19', 'GS 18/19', 'MP 18/19', 'FG 18/19', 'FGA 18/19',\n",
    "                'FG% 18/19', '3P 18/19', '3PA 18/19', '2P 18/19', '2PA 18/19', '2P% 18/19', \n",
    "                'eFG% 18/19', 'FT 18/19', 'FTA 18/19', 'ORB 18/19', 'DRB 18/19', 'TRB 18/19', \n",
    "                'AST 18/19', 'STL 18/19', 'BLK 18/19', 'TOV 18/19', 'PF 18/19', 'PTS 18/19']] \n",
    "\n",
    "print(x.shape)\n",
    "print(y.shape)"
   ]
  },
  {
   "cell_type": "markdown",
   "metadata": {
    "papermill": {
     "duration": 0.070427,
     "end_time": "2020-10-13T09:23:53.187032",
     "exception": false,
     "start_time": "2020-10-13T09:23:53.116605",
     "status": "completed"
    },
    "tags": []
   },
   "source": [
    "**One-Hot encoding for feature position**\n",
    "\n",
    "We will use the One-Hot encoder to deal with the categorical variable 'Pos_x'. We can not use the normal Label encoder because an ordering would tell our algorithm that certain positions are 'better' than others. "
   ]
  },
  {
   "cell_type": "code",
   "execution_count": 33,
   "metadata": {
    "execution": {
     "iopub.execute_input": "2020-10-13T09:23:53.355587Z",
     "iopub.status.busy": "2020-10-13T09:23:53.337607Z",
     "iopub.status.idle": "2020-10-13T09:23:53.363196Z",
     "shell.execute_reply": "2020-10-13T09:23:53.362586Z"
    },
    "papermill": {
     "duration": 0.105696,
     "end_time": "2020-10-13T09:23:53.363311",
     "exception": false,
     "start_time": "2020-10-13T09:23:53.257615",
     "status": "completed"
    },
    "tags": []
   },
   "outputs": [
    {
     "data": {
      "text/html": [
       "<div>\n",
       "<style scoped>\n",
       "    .dataframe tbody tr th:only-of-type {\n",
       "        vertical-align: middle;\n",
       "    }\n",
       "\n",
       "    .dataframe tbody tr th {\n",
       "        vertical-align: top;\n",
       "    }\n",
       "\n",
       "    .dataframe thead th {\n",
       "        text-align: right;\n",
       "    }\n",
       "</style>\n",
       "<table border=\"1\" class=\"dataframe\">\n",
       "  <thead>\n",
       "    <tr style=\"text-align: right;\">\n",
       "      <th></th>\n",
       "      <th>Age 18/19</th>\n",
       "      <th>G 18/19</th>\n",
       "      <th>GS 18/19</th>\n",
       "      <th>MP 18/19</th>\n",
       "      <th>FG 18/19</th>\n",
       "      <th>FGA 18/19</th>\n",
       "      <th>FG% 18/19</th>\n",
       "      <th>3P 18/19</th>\n",
       "      <th>3PA 18/19</th>\n",
       "      <th>2P 18/19</th>\n",
       "      <th>...</th>\n",
       "      <th>STL 18/19</th>\n",
       "      <th>BLK 18/19</th>\n",
       "      <th>TOV 18/19</th>\n",
       "      <th>PF 18/19</th>\n",
       "      <th>PTS 18/19</th>\n",
       "      <th>Pos_PG</th>\n",
       "      <th>Pos_SG</th>\n",
       "      <th>Pos_SF</th>\n",
       "      <th>Pos_PF</th>\n",
       "      <th>Pos_C</th>\n",
       "    </tr>\n",
       "  </thead>\n",
       "  <tbody>\n",
       "    <tr>\n",
       "      <th>0</th>\n",
       "      <td>25.0</td>\n",
       "      <td>80.0</td>\n",
       "      <td>80.0</td>\n",
       "      <td>33.4</td>\n",
       "      <td>6.0</td>\n",
       "      <td>10.1</td>\n",
       "      <td>0.595</td>\n",
       "      <td>0.0</td>\n",
       "      <td>0.0</td>\n",
       "      <td>6.0</td>\n",
       "      <td>...</td>\n",
       "      <td>1.5</td>\n",
       "      <td>1.0</td>\n",
       "      <td>1.7</td>\n",
       "      <td>2.6</td>\n",
       "      <td>13.9</td>\n",
       "      <td>0.0</td>\n",
       "      <td>0.0</td>\n",
       "      <td>0.0</td>\n",
       "      <td>0.0</td>\n",
       "      <td>1.0</td>\n",
       "    </tr>\n",
       "    <tr>\n",
       "      <th>1</th>\n",
       "      <td>21.0</td>\n",
       "      <td>82.0</td>\n",
       "      <td>28.0</td>\n",
       "      <td>23.3</td>\n",
       "      <td>3.4</td>\n",
       "      <td>5.9</td>\n",
       "      <td>0.576</td>\n",
       "      <td>0.0</td>\n",
       "      <td>0.2</td>\n",
       "      <td>3.4</td>\n",
       "      <td>...</td>\n",
       "      <td>0.9</td>\n",
       "      <td>0.8</td>\n",
       "      <td>1.5</td>\n",
       "      <td>2.5</td>\n",
       "      <td>8.9</td>\n",
       "      <td>0.0</td>\n",
       "      <td>0.0</td>\n",
       "      <td>0.0</td>\n",
       "      <td>0.0</td>\n",
       "      <td>1.0</td>\n",
       "    </tr>\n",
       "    <tr>\n",
       "      <th>2</th>\n",
       "      <td>33.0</td>\n",
       "      <td>81.0</td>\n",
       "      <td>81.0</td>\n",
       "      <td>33.2</td>\n",
       "      <td>8.4</td>\n",
       "      <td>16.3</td>\n",
       "      <td>0.519</td>\n",
       "      <td>0.1</td>\n",
       "      <td>0.5</td>\n",
       "      <td>8.3</td>\n",
       "      <td>...</td>\n",
       "      <td>0.5</td>\n",
       "      <td>1.3</td>\n",
       "      <td>1.8</td>\n",
       "      <td>2.2</td>\n",
       "      <td>21.3</td>\n",
       "      <td>0.0</td>\n",
       "      <td>0.0</td>\n",
       "      <td>0.0</td>\n",
       "      <td>0.0</td>\n",
       "      <td>1.0</td>\n",
       "    </tr>\n",
       "    <tr>\n",
       "      <th>3</th>\n",
       "      <td>20.0</td>\n",
       "      <td>80.0</td>\n",
       "      <td>80.0</td>\n",
       "      <td>26.2</td>\n",
       "      <td>4.2</td>\n",
       "      <td>7.1</td>\n",
       "      <td>0.590</td>\n",
       "      <td>0.1</td>\n",
       "      <td>0.6</td>\n",
       "      <td>4.1</td>\n",
       "      <td>...</td>\n",
       "      <td>0.5</td>\n",
       "      <td>1.5</td>\n",
       "      <td>1.3</td>\n",
       "      <td>2.3</td>\n",
       "      <td>10.9</td>\n",
       "      <td>0.0</td>\n",
       "      <td>0.0</td>\n",
       "      <td>0.0</td>\n",
       "      <td>0.0</td>\n",
       "      <td>1.0</td>\n",
       "    </tr>\n",
       "    <tr>\n",
       "      <th>4</th>\n",
       "      <td>28.0</td>\n",
       "      <td>81.0</td>\n",
       "      <td>81.0</td>\n",
       "      <td>28.3</td>\n",
       "      <td>3.2</td>\n",
       "      <td>7.3</td>\n",
       "      <td>0.433</td>\n",
       "      <td>1.2</td>\n",
       "      <td>3.5</td>\n",
       "      <td>2.0</td>\n",
       "      <td>...</td>\n",
       "      <td>0.8</td>\n",
       "      <td>0.4</td>\n",
       "      <td>0.9</td>\n",
       "      <td>1.8</td>\n",
       "      <td>9.4</td>\n",
       "      <td>0.0</td>\n",
       "      <td>0.0</td>\n",
       "      <td>0.0</td>\n",
       "      <td>1.0</td>\n",
       "      <td>0.0</td>\n",
       "    </tr>\n",
       "  </tbody>\n",
       "</table>\n",
       "<p>5 rows × 29 columns</p>\n",
       "</div>"
      ],
      "text/plain": [
       "   Age 18/19  G 18/19  GS 18/19  MP 18/19  FG 18/19  FGA 18/19  FG% 18/19  \\\n",
       "0       25.0     80.0      80.0      33.4       6.0       10.1      0.595   \n",
       "1       21.0     82.0      28.0      23.3       3.4        5.9      0.576   \n",
       "2       33.0     81.0      81.0      33.2       8.4       16.3      0.519   \n",
       "3       20.0     80.0      80.0      26.2       4.2        7.1      0.590   \n",
       "4       28.0     81.0      81.0      28.3       3.2        7.3      0.433   \n",
       "\n",
       "   3P 18/19  3PA 18/19  2P 18/19  ...  STL 18/19  BLK 18/19  TOV 18/19  \\\n",
       "0       0.0        0.0       6.0  ...        1.5        1.0        1.7   \n",
       "1       0.0        0.2       3.4  ...        0.9        0.8        1.5   \n",
       "2       0.1        0.5       8.3  ...        0.5        1.3        1.8   \n",
       "3       0.1        0.6       4.1  ...        0.5        1.5        1.3   \n",
       "4       1.2        3.5       2.0  ...        0.8        0.4        0.9   \n",
       "\n",
       "   PF 18/19  PTS 18/19  Pos_PG  Pos_SG  Pos_SF  Pos_PF  Pos_C  \n",
       "0       2.6       13.9     0.0     0.0     0.0     0.0    1.0  \n",
       "1       2.5        8.9     0.0     0.0     0.0     0.0    1.0  \n",
       "2       2.2       21.3     0.0     0.0     0.0     0.0    1.0  \n",
       "3       2.3       10.9     0.0     0.0     0.0     0.0    1.0  \n",
       "4       1.8        9.4     0.0     0.0     0.0     1.0    0.0  \n",
       "\n",
       "[5 rows x 29 columns]"
      ]
     },
     "execution_count": 33,
     "metadata": {},
     "output_type": "execute_result"
    }
   ],
   "source": [
    "# Instantiate OneHotEncoder\n",
    "ohe = OneHotEncoder(categories = [['PG', 'SG', 'SF', 'PF', 'C']])\n",
    "\n",
    "# Apply one-hot encoder\n",
    "x_ohe = pd.DataFrame(ohe.fit_transform(x['Pos'].to_frame()).toarray())\n",
    "\n",
    "# Get feature names\n",
    "x_ohe.columns = ohe.get_feature_names(['Pos'])\n",
    "\n",
    "# One-hot encoding removed index; put it back\n",
    "x_ohe.index = x.index\n",
    "\n",
    "# Add one-hot encoded columns to numerical features and remove categorical column\n",
    "x = pd.concat([x, x_ohe], axis=1).drop(['Pos'], axis=1)\n",
    "\n",
    "# How does it look like?\n",
    "x.head()"
   ]
  },
  {
   "cell_type": "markdown",
   "metadata": {
    "papermill": {
     "duration": 0.069925,
     "end_time": "2020-10-13T09:23:53.503638",
     "exception": false,
     "start_time": "2020-10-13T09:23:53.433713",
     "status": "completed"
    },
    "tags": []
   },
   "source": [
    "**Split Data into train and test**"
   ]
  },
  {
   "cell_type": "code",
   "execution_count": 34,
   "metadata": {
    "execution": {
     "iopub.execute_input": "2020-10-13T09:23:53.684673Z",
     "iopub.status.busy": "2020-10-13T09:23:53.683617Z",
     "iopub.status.idle": "2020-10-13T09:23:53.687083Z",
     "shell.execute_reply": "2020-10-13T09:23:53.687849Z"
    },
    "papermill": {
     "duration": 0.099126,
     "end_time": "2020-10-13T09:23:53.688059",
     "exception": false,
     "start_time": "2020-10-13T09:23:53.588933",
     "status": "completed"
    },
    "tags": []
   },
   "outputs": [
    {
     "name": "stdout",
     "output_type": "stream",
     "text": [
      "(344, 29)\n",
      "(344,)\n",
      "(87, 29)\n",
      "(87,)\n"
     ]
    }
   ],
   "source": [
    "# Split data using train_test_split\n",
    "x_train, x_test, y_train, y_test = train_test_split(x, y, test_size = 0.2, random_state = 0)\n",
    "\n",
    "print(x_train.shape)\n",
    "print(y_train.shape)\n",
    "print(x_test.shape)\n",
    "print(y_test.shape)"
   ]
  },
  {
   "cell_type": "markdown",
   "metadata": {
    "papermill": {
     "duration": 0.071487,
     "end_time": "2020-10-13T09:23:53.830547",
     "exception": false,
     "start_time": "2020-10-13T09:23:53.759060",
     "status": "completed"
    },
    "tags": []
   },
   "source": [
    "**Normalise y**\n",
    "\n",
    "As we saw in our analysis the dependent variable does not approximately follow a normal distribution, but it is necessary for most of our models. That is why we need to normalise y for the next steps."
   ]
  },
  {
   "cell_type": "code",
   "execution_count": 35,
   "metadata": {
    "execution": {
     "iopub.execute_input": "2020-10-13T09:23:53.986079Z",
     "iopub.status.busy": "2020-10-13T09:23:53.985269Z",
     "iopub.status.idle": "2020-10-13T09:23:54.464479Z",
     "shell.execute_reply": "2020-10-13T09:23:54.463816Z"
    },
    "papermill": {
     "duration": 0.563738,
     "end_time": "2020-10-13T09:23:54.464615",
     "exception": false,
     "start_time": "2020-10-13T09:23:53.900877",
     "status": "completed"
    },
    "tags": []
   },
   "outputs": [
    {
     "data": {
      "text/plain": [
       "<matplotlib.axes._subplots.AxesSubplot at 0x7f1670596890>"
      ]
     },
     "execution_count": 35,
     "metadata": {},
     "output_type": "execute_result"
    },
    {
     "data": {
      "image/png": "[encoded data removed]",
      "text/plain": [
       "<Figure size 720x360 with 2 Axes>"
      ]
     },
     "metadata": {},
     "output_type": "display_data"
    }
   ],
   "source": [
    "#Apply cube-root transformation\n",
    "y_train = pd.DataFrame(np.cbrt([y_train])).T\n",
    "y_test = pd.DataFrame(np.cbrt([y_test])).T\n",
    "y = pd.DataFrame(np.cbrt([y])).T\n",
    "\n",
    "#transformed histogram and normal probability plot\n",
    "f, axes = plt.subplots(1, 2, figsize = (10, 5), sharex = True)\n",
    "sns.distplot(y_train, color = \"skyblue\", fit = norm, ax = axes[0], axlabel = \"y_train\")\n",
    "sns.distplot(y_test, color = \"olive\",fit = norm, ax = axes[1], axlabel = \"y_test\")\n",
    "#sns.distplot(y, color = \"olive\",fit = norm, axlabel = \"y\")"
   ]
  },
  {
   "cell_type": "markdown",
   "metadata": {
    "papermill": {
     "duration": 0.073513,
     "end_time": "2020-10-13T09:23:54.612668",
     "exception": false,
     "start_time": "2020-10-13T09:23:54.539155",
     "status": "completed"
    },
    "tags": []
   },
   "source": [
    "**Scaling features**\n",
    "\n",
    "For some of our following algorithms it is important that our features are scaled."
   ]
  },
  {
   "cell_type": "code",
   "execution_count": 36,
   "metadata": {
    "execution": {
     "iopub.execute_input": "2020-10-13T09:23:54.763685Z",
     "iopub.status.busy": "2020-10-13T09:23:54.763026Z",
     "iopub.status.idle": "2020-10-13T09:23:54.766126Z",
     "shell.execute_reply": "2020-10-13T09:23:54.765667Z"
    },
    "papermill": {
     "duration": 0.080064,
     "end_time": "2020-10-13T09:23:54.766235",
     "exception": false,
     "start_time": "2020-10-13T09:23:54.686171",
     "status": "completed"
    },
    "tags": []
   },
   "outputs": [],
   "source": [
    "# Use Robustscaler\n",
    "\n",
    "#scaler = RobustScaler()\n",
    "#x_train_scaled = pd.DataFrame(scaler.fit_transform(x_train), index = x_train.index, columns = x_train.columns)\n",
    "#x_test_scaled = pd.DataFrame(scaler.transform(x_test), index = x_test.index, columns = x_test.columns)\n",
    "\n",
    "#x_train_scaled.head()"
   ]
  },
  {
   "cell_type": "markdown",
   "metadata": {
    "papermill": {
     "duration": 0.072234,
     "end_time": "2020-10-13T09:23:54.912008",
     "exception": false,
     "start_time": "2020-10-13T09:23:54.839774",
     "status": "completed"
    },
    "tags": []
   },
   "source": [
    "# 4. Building Machine Learning Models\n",
    "\n",
    "## Basic machine learning algorithms\n",
    "\n",
    "We will set up a function to prevent wirting similar code repeated times. We will evaluate these models with the root-mean-squared-error and the R-squared."
   ]
  },
  {
   "cell_type": "code",
   "execution_count": 37,
   "metadata": {
    "execution": {
     "iopub.execute_input": "2020-10-13T09:23:55.066708Z",
     "iopub.status.busy": "2020-10-13T09:23:55.065916Z",
     "iopub.status.idle": "2020-10-13T09:23:55.068735Z",
     "shell.execute_reply": "2020-10-13T09:23:55.068111Z"
    },
    "papermill": {
     "duration": 0.084469,
     "end_time": "2020-10-13T09:23:55.068845",
     "exception": false,
     "start_time": "2020-10-13T09:23:54.984376",
     "status": "completed"
    },
    "tags": []
   },
   "outputs": [],
   "source": [
    "# Function which uses an algorithm as input and returns the desired accuracy metrics and some predictions\n",
    "\n",
    "def alg_fit(alg, x_train, y_train, x_test, name, y_true, df, mse, r2):\n",
    "    \n",
    "    # Model selection\n",
    "    mod = alg.fit(x_train, y_train)\n",
    "    \n",
    "    # Prediction\n",
    "    y_pred = mod.predict(x_test)\n",
    "    \n",
    "    # Accuracy\n",
    "    acc1 = round(mse(y_test, y_pred), 4)\n",
    "    acc2 = round(r2(y_test, y_pred), 4)\n",
    "    \n",
    "    # Accuracy table\n",
    "    x_test['y_pred'] = mod.predict(x_test)\n",
    "    df_acc = pd.merge(df, x_test, how = 'right')\n",
    "    x_test.drop(['y_pred'], axis = 1, inplace = True)\n",
    "    df_acc = df_acc[[name, y_true, 'y_pred']]\n",
    "    df_acc.sort_values(by = y_true, ascending = False, inplace = True)\n",
    "    df_acc['y_pred'] = df_acc['y_pred']**3\n",
    "    \n",
    "    return y_pred, acc1, acc2, df_acc"
   ]
  },
  {
   "cell_type": "markdown",
   "metadata": {
    "papermill": {
     "duration": 0.073497,
     "end_time": "2020-10-13T09:23:55.215391",
     "exception": false,
     "start_time": "2020-10-13T09:23:55.141894",
     "status": "completed"
    },
    "tags": []
   },
   "source": [
    "**Linear Regression**\n",
    "\n",
    "We will start and test a simple linear regression model."
   ]
  },
  {
   "cell_type": "code",
   "execution_count": 38,
   "metadata": {
    "execution": {
     "iopub.execute_input": "2020-10-13T09:23:55.387456Z",
     "iopub.status.busy": "2020-10-13T09:23:55.384963Z",
     "iopub.status.idle": "2020-10-13T09:23:55.422582Z",
     "shell.execute_reply": "2020-10-13T09:23:55.421975Z"
    },
    "papermill": {
     "duration": 0.133974,
     "end_time": "2020-10-13T09:23:55.422705",
     "exception": false,
     "start_time": "2020-10-13T09:23:55.288731",
     "status": "completed"
    },
    "tags": []
   },
   "outputs": [
    {
     "name": "stdout",
     "output_type": "stream",
     "text": [
      "Root Mean Squared Error: 4.8398\n",
      "R-squared: 0.5995\n"
     ]
    },
    {
     "data": {
      "text/html": [
       "<div>\n",
       "<style scoped>\n",
       "    .dataframe tbody tr th:only-of-type {\n",
       "        vertical-align: middle;\n",
       "    }\n",
       "\n",
       "    .dataframe tbody tr th {\n",
       "        vertical-align: top;\n",
       "    }\n",
       "\n",
       "    .dataframe thead th {\n",
       "        text-align: right;\n",
       "    }\n",
       "</style>\n",
       "<table border=\"1\" class=\"dataframe\">\n",
       "  <thead>\n",
       "    <tr style=\"text-align: right;\">\n",
       "      <th></th>\n",
       "      <th>Player</th>\n",
       "      <th>Salary 19/20</th>\n",
       "      <th>y_pred</th>\n",
       "    </tr>\n",
       "  </thead>\n",
       "  <tbody>\n",
       "    <tr>\n",
       "      <th>80</th>\n",
       "      <td>Russell Westbrook</td>\n",
       "      <td>38178.000</td>\n",
       "      <td>35861.722038</td>\n",
       "    </tr>\n",
       "    <tr>\n",
       "      <th>77</th>\n",
       "      <td>John Wall</td>\n",
       "      <td>37800.000</td>\n",
       "      <td>15151.551058</td>\n",
       "    </tr>\n",
       "    <tr>\n",
       "      <th>51</th>\n",
       "      <td>Blake Griffin</td>\n",
       "      <td>34234.964</td>\n",
       "      <td>22661.860956</td>\n",
       "    </tr>\n",
       "    <tr>\n",
       "      <th>19</th>\n",
       "      <td>Kawhi Leonard</td>\n",
       "      <td>32742.000</td>\n",
       "      <td>27317.865101</td>\n",
       "    </tr>\n",
       "    <tr>\n",
       "      <th>104</th>\n",
       "      <td>Nikola Vučević</td>\n",
       "      <td>28000.000</td>\n",
       "      <td>34595.453560</td>\n",
       "    </tr>\n",
       "    <tr>\n",
       "      <th>98</th>\n",
       "      <td>Al Horford</td>\n",
       "      <td>28000.000</td>\n",
       "      <td>18990.550807</td>\n",
       "    </tr>\n",
       "    <tr>\n",
       "      <th>53</th>\n",
       "      <td>Andre Drummond</td>\n",
       "      <td>27093.019</td>\n",
       "      <td>20183.882351</td>\n",
       "    </tr>\n",
       "    <tr>\n",
       "      <th>0</th>\n",
       "      <td>Jrue Holiday</td>\n",
       "      <td>26131.111</td>\n",
       "      <td>26692.191478</td>\n",
       "    </tr>\n",
       "    <tr>\n",
       "      <th>4</th>\n",
       "      <td>Giannis Antetokounmpo</td>\n",
       "      <td>25842.697</td>\n",
       "      <td>18709.435310</td>\n",
       "    </tr>\n",
       "    <tr>\n",
       "      <th>10</th>\n",
       "      <td>Nicolas Batum</td>\n",
       "      <td>25565.217</td>\n",
       "      <td>10365.910602</td>\n",
       "    </tr>\n",
       "  </tbody>\n",
       "</table>\n",
       "</div>"
      ],
      "text/plain": [
       "                    Player  Salary 19/20        y_pred\n",
       "80       Russell Westbrook     38178.000  35861.722038\n",
       "77               John Wall     37800.000  15151.551058\n",
       "51           Blake Griffin     34234.964  22661.860956\n",
       "19           Kawhi Leonard     32742.000  27317.865101\n",
       "104         Nikola Vučević     28000.000  34595.453560\n",
       "98              Al Horford     28000.000  18990.550807\n",
       "53          Andre Drummond     27093.019  20183.882351\n",
       "0             Jrue Holiday     26131.111  26692.191478\n",
       "4    Giannis Antetokounmpo     25842.697  18709.435310\n",
       "10           Nicolas Batum     25565.217  10365.910602"
      ]
     },
     "execution_count": 38,
     "metadata": {},
     "output_type": "execute_result"
    }
   ],
   "source": [
    "# Linear Regression\n",
    "y_pred_lin, mse_lin, r2_lin, df_acc_lin = alg_fit(LinearRegression(), x_train, y_train, x_test, 'Player', 'Salary 19/20', \n",
    "                                                  df1, metrics.mean_squared_error, metrics.r2_score)\n",
    "\n",
    "print(\"Root Mean Squared Error: %s\" % round(np.sqrt(mse_lin), 4))\n",
    "print(\"R-squared: %s\" % r2_lin)\n",
    "df_acc_lin.head(10)"
   ]
  },
  {
   "cell_type": "markdown",
   "metadata": {
    "papermill": {
     "duration": 0.074741,
     "end_time": "2020-10-13T09:23:55.572604",
     "exception": false,
     "start_time": "2020-10-13T09:23:55.497863",
     "status": "completed"
    },
    "tags": []
   },
   "source": [
    "**Ridge Regression**\n",
    "\n",
    "As we have a problem of multicollinearity in our linear regression model, we need to find a fitting solution. With high multicollinearity our estimation is most probably imprecise and has large standard errors. \n",
    "Ridge regression mitigates this problem by providing improved efficiency in our estimation in exchange for an amount of bias. "
   ]
  },
  {
   "cell_type": "code",
   "execution_count": 39,
   "metadata": {
    "execution": {
     "iopub.execute_input": "2020-10-13T09:23:55.740676Z",
     "iopub.status.busy": "2020-10-13T09:23:55.731050Z",
     "iopub.status.idle": "2020-10-13T09:23:55.780101Z",
     "shell.execute_reply": "2020-10-13T09:23:55.779539Z"
    },
    "papermill": {
     "duration": 0.13321,
     "end_time": "2020-10-13T09:23:55.780216",
     "exception": false,
     "start_time": "2020-10-13T09:23:55.647006",
     "status": "completed"
    },
    "tags": []
   },
   "outputs": [
    {
     "name": "stdout",
     "output_type": "stream",
     "text": [
      "Root Mean Squared Error: 4.7957\n",
      "R-squared: 0.6068\n"
     ]
    },
    {
     "data": {
      "text/html": [
       "<div>\n",
       "<style scoped>\n",
       "    .dataframe tbody tr th:only-of-type {\n",
       "        vertical-align: middle;\n",
       "    }\n",
       "\n",
       "    .dataframe tbody tr th {\n",
       "        vertical-align: top;\n",
       "    }\n",
       "\n",
       "    .dataframe thead th {\n",
       "        text-align: right;\n",
       "    }\n",
       "</style>\n",
       "<table border=\"1\" class=\"dataframe\">\n",
       "  <thead>\n",
       "    <tr style=\"text-align: right;\">\n",
       "      <th></th>\n",
       "      <th>Player</th>\n",
       "      <th>Salary 19/20</th>\n",
       "      <th>y_pred</th>\n",
       "    </tr>\n",
       "  </thead>\n",
       "  <tbody>\n",
       "    <tr>\n",
       "      <th>80</th>\n",
       "      <td>Russell Westbrook</td>\n",
       "      <td>38178.000</td>\n",
       "      <td>37299.368076</td>\n",
       "    </tr>\n",
       "    <tr>\n",
       "      <th>77</th>\n",
       "      <td>John Wall</td>\n",
       "      <td>37800.000</td>\n",
       "      <td>15077.459654</td>\n",
       "    </tr>\n",
       "    <tr>\n",
       "      <th>51</th>\n",
       "      <td>Blake Griffin</td>\n",
       "      <td>34234.964</td>\n",
       "      <td>22222.230027</td>\n",
       "    </tr>\n",
       "    <tr>\n",
       "      <th>19</th>\n",
       "      <td>Kawhi Leonard</td>\n",
       "      <td>32742.000</td>\n",
       "      <td>27533.144275</td>\n",
       "    </tr>\n",
       "    <tr>\n",
       "      <th>104</th>\n",
       "      <td>Nikola Vučević</td>\n",
       "      <td>28000.000</td>\n",
       "      <td>35387.892650</td>\n",
       "    </tr>\n",
       "    <tr>\n",
       "      <th>98</th>\n",
       "      <td>Al Horford</td>\n",
       "      <td>28000.000</td>\n",
       "      <td>18659.381273</td>\n",
       "    </tr>\n",
       "    <tr>\n",
       "      <th>53</th>\n",
       "      <td>Andre Drummond</td>\n",
       "      <td>27093.019</td>\n",
       "      <td>21340.393930</td>\n",
       "    </tr>\n",
       "    <tr>\n",
       "      <th>0</th>\n",
       "      <td>Jrue Holiday</td>\n",
       "      <td>26131.111</td>\n",
       "      <td>26024.180424</td>\n",
       "    </tr>\n",
       "    <tr>\n",
       "      <th>4</th>\n",
       "      <td>Giannis Antetokounmpo</td>\n",
       "      <td>25842.697</td>\n",
       "      <td>20373.840488</td>\n",
       "    </tr>\n",
       "    <tr>\n",
       "      <th>10</th>\n",
       "      <td>Nicolas Batum</td>\n",
       "      <td>25565.217</td>\n",
       "      <td>10390.245816</td>\n",
       "    </tr>\n",
       "  </tbody>\n",
       "</table>\n",
       "</div>"
      ],
      "text/plain": [
       "                    Player  Salary 19/20        y_pred\n",
       "80       Russell Westbrook     38178.000  37299.368076\n",
       "77               John Wall     37800.000  15077.459654\n",
       "51           Blake Griffin     34234.964  22222.230027\n",
       "19           Kawhi Leonard     32742.000  27533.144275\n",
       "104         Nikola Vučević     28000.000  35387.892650\n",
       "98              Al Horford     28000.000  18659.381273\n",
       "53          Andre Drummond     27093.019  21340.393930\n",
       "0             Jrue Holiday     26131.111  26024.180424\n",
       "4    Giannis Antetokounmpo     25842.697  20373.840488\n",
       "10           Nicolas Batum     25565.217  10390.245816"
      ]
     },
     "execution_count": 39,
     "metadata": {},
     "output_type": "execute_result"
    }
   ],
   "source": [
    "# Ridge Regression\n",
    "y_pred_rid, mse_rid, r2_rid, df_acc_rid = alg_fit(Ridge(alpha = 1), x_train, y_train, x_test, 'Player', 'Salary 19/20',\n",
    "                                                  df1, metrics.mean_squared_error, metrics.r2_score)\n",
    "\n",
    "print(\"Root Mean Squared Error: %s\" % round(np.sqrt(mse_rid), 4))\n",
    "print(\"R-squared: %s\" % r2_rid)\n",
    "df_acc_rid.head(10)"
   ]
  },
  {
   "cell_type": "markdown",
   "metadata": {
    "papermill": {
     "duration": 0.075356,
     "end_time": "2020-10-13T09:23:55.933941",
     "exception": false,
     "start_time": "2020-10-13T09:23:55.858585",
     "status": "completed"
    },
    "tags": []
   },
   "source": [
    "**Lasso Regression**\n",
    "\n",
    "The lasso regression is quite similar conceptually to ridge regression. It additionally adds a penalty for non-zero coeffecients. Unlike ridge regression it limits the absolute values of the coefficients rather than the sum of squared coefficients."
   ]
  },
  {
   "cell_type": "code",
   "execution_count": 40,
   "metadata": {
    "execution": {
     "iopub.execute_input": "2020-10-13T09:23:56.099776Z",
     "iopub.status.busy": "2020-10-13T09:23:56.099080Z",
     "iopub.status.idle": "2020-10-13T09:23:56.145991Z",
     "shell.execute_reply": "2020-10-13T09:23:56.145109Z"
    },
    "papermill": {
     "duration": 0.136615,
     "end_time": "2020-10-13T09:23:56.146177",
     "exception": false,
     "start_time": "2020-10-13T09:23:56.009562",
     "status": "completed"
    },
    "tags": []
   },
   "outputs": [
    {
     "name": "stdout",
     "output_type": "stream",
     "text": [
      "Root Mean Squared Error: 4.7956\n",
      "R-squared: 0.6068\n"
     ]
    },
    {
     "name": "stderr",
     "output_type": "stream",
     "text": [
      "/opt/conda/lib/python3.7/site-packages/sklearn/linear_model/_coordinate_descent.py:531: ConvergenceWarning: Objective did not converge. You might want to increase the number of iterations. Duality gap: 3124.795096794169, tolerance: 1.870867104030862\n",
      "  positive)\n"
     ]
    },
    {
     "data": {
      "text/html": [
       "<div>\n",
       "<style scoped>\n",
       "    .dataframe tbody tr th:only-of-type {\n",
       "        vertical-align: middle;\n",
       "    }\n",
       "\n",
       "    .dataframe tbody tr th {\n",
       "        vertical-align: top;\n",
       "    }\n",
       "\n",
       "    .dataframe thead th {\n",
       "        text-align: right;\n",
       "    }\n",
       "</style>\n",
       "<table border=\"1\" class=\"dataframe\">\n",
       "  <thead>\n",
       "    <tr style=\"text-align: right;\">\n",
       "      <th></th>\n",
       "      <th>Player</th>\n",
       "      <th>Salary 19/20</th>\n",
       "      <th>y_pred</th>\n",
       "    </tr>\n",
       "  </thead>\n",
       "  <tbody>\n",
       "    <tr>\n",
       "      <th>80</th>\n",
       "      <td>Russell Westbrook</td>\n",
       "      <td>38178.000</td>\n",
       "      <td>35342.454510</td>\n",
       "    </tr>\n",
       "    <tr>\n",
       "      <th>77</th>\n",
       "      <td>John Wall</td>\n",
       "      <td>37800.000</td>\n",
       "      <td>14744.765409</td>\n",
       "    </tr>\n",
       "    <tr>\n",
       "      <th>51</th>\n",
       "      <td>Blake Griffin</td>\n",
       "      <td>34234.964</td>\n",
       "      <td>22565.965812</td>\n",
       "    </tr>\n",
       "    <tr>\n",
       "      <th>19</th>\n",
       "      <td>Kawhi Leonard</td>\n",
       "      <td>32742.000</td>\n",
       "      <td>27308.015452</td>\n",
       "    </tr>\n",
       "    <tr>\n",
       "      <th>104</th>\n",
       "      <td>Nikola Vučević</td>\n",
       "      <td>28000.000</td>\n",
       "      <td>34492.761274</td>\n",
       "    </tr>\n",
       "    <tr>\n",
       "      <th>98</th>\n",
       "      <td>Al Horford</td>\n",
       "      <td>28000.000</td>\n",
       "      <td>18595.284756</td>\n",
       "    </tr>\n",
       "    <tr>\n",
       "      <th>53</th>\n",
       "      <td>Andre Drummond</td>\n",
       "      <td>27093.019</td>\n",
       "      <td>20516.650394</td>\n",
       "    </tr>\n",
       "    <tr>\n",
       "      <th>0</th>\n",
       "      <td>Jrue Holiday</td>\n",
       "      <td>26131.111</td>\n",
       "      <td>26103.685756</td>\n",
       "    </tr>\n",
       "    <tr>\n",
       "      <th>4</th>\n",
       "      <td>Giannis Antetokounmpo</td>\n",
       "      <td>25842.697</td>\n",
       "      <td>19036.876429</td>\n",
       "    </tr>\n",
       "    <tr>\n",
       "      <th>10</th>\n",
       "      <td>Nicolas Batum</td>\n",
       "      <td>25565.217</td>\n",
       "      <td>10506.957046</td>\n",
       "    </tr>\n",
       "  </tbody>\n",
       "</table>\n",
       "</div>"
      ],
      "text/plain": [
       "                    Player  Salary 19/20        y_pred\n",
       "80       Russell Westbrook     38178.000  35342.454510\n",
       "77               John Wall     37800.000  14744.765409\n",
       "51           Blake Griffin     34234.964  22565.965812\n",
       "19           Kawhi Leonard     32742.000  27308.015452\n",
       "104         Nikola Vučević     28000.000  34492.761274\n",
       "98              Al Horford     28000.000  18595.284756\n",
       "53          Andre Drummond     27093.019  20516.650394\n",
       "0             Jrue Holiday     26131.111  26103.685756\n",
       "4    Giannis Antetokounmpo     25842.697  19036.876429\n",
       "10           Nicolas Batum     25565.217  10506.957046"
      ]
     },
     "execution_count": 40,
     "metadata": {},
     "output_type": "execute_result"
    }
   ],
   "source": [
    "# Lasso Regression\n",
    "y_pred_las, mse_las, r2_las, df_acc_las = alg_fit(Lasso(alpha = 0.001), x_train, y_train, x_test, 'Player', 'Salary 19/20',\n",
    "                                                  df1, metrics.mean_squared_error, metrics.r2_score)\n",
    "\n",
    "print(\"Root Mean Squared Error: %s\" % round(np.sqrt(mse_las), 4))\n",
    "print(\"R-squared: %s\" % r2_las)\n",
    "df_acc_las.head(10)"
   ]
  },
  {
   "cell_type": "markdown",
   "metadata": {
    "papermill": {
     "duration": 0.077379,
     "end_time": "2020-10-13T09:23:56.301729",
     "exception": false,
     "start_time": "2020-10-13T09:23:56.224350",
     "status": "completed"
    },
    "tags": []
   },
   "source": [
    "### Cross Validation\n",
    "\n",
    "This will give us a more precise accuracy measure."
   ]
  },
  {
   "cell_type": "code",
   "execution_count": 41,
   "metadata": {
    "execution": {
     "iopub.execute_input": "2020-10-13T09:23:56.466680Z",
     "iopub.status.busy": "2020-10-13T09:23:56.465889Z",
     "iopub.status.idle": "2020-10-13T09:23:56.469232Z",
     "shell.execute_reply": "2020-10-13T09:23:56.468731Z"
    },
    "papermill": {
     "duration": 0.089204,
     "end_time": "2020-10-13T09:23:56.469351",
     "exception": false,
     "start_time": "2020-10-13T09:23:56.380147",
     "status": "completed"
    },
    "tags": []
   },
   "outputs": [],
   "source": [
    "def alg_fit_cv(alg, x, y, mse, r2):\n",
    "    \n",
    "    # Cross validation\n",
    "    cv = KFold(shuffle = True, random_state = 0, n_splits = 5)\n",
    "    \n",
    "    # Accuracy\n",
    "    scores1 = cross_val_score(alg, x, y, cv = cv, scoring = mse)\n",
    "    scores2 = cross_val_score(alg, x, y, cv = cv, scoring = r2)\n",
    "    acc1_cv = round(scores1.mean(), 4)\n",
    "    acc2_cv = round(scores2.mean(), 4)\n",
    "    \n",
    "    return acc1_cv, acc2_cv"
   ]
  },
  {
   "cell_type": "code",
   "execution_count": 42,
   "metadata": {
    "execution": {
     "iopub.execute_input": "2020-10-13T09:23:56.645323Z",
     "iopub.status.busy": "2020-10-13T09:23:56.636683Z",
     "iopub.status.idle": "2020-10-13T09:23:56.722870Z",
     "shell.execute_reply": "2020-10-13T09:23:56.722140Z"
    },
    "papermill": {
     "duration": 0.176171,
     "end_time": "2020-10-13T09:23:56.723034",
     "exception": false,
     "start_time": "2020-10-13T09:23:56.546863",
     "status": "completed"
    },
    "tags": []
   },
   "outputs": [
    {
     "name": "stdout",
     "output_type": "stream",
     "text": [
      "Root Mean Squared Error: 5.0776\n",
      "R-squared: 0.5217\n"
     ]
    }
   ],
   "source": [
    "# Linear Regression\n",
    "\n",
    "mse_cv_lin, r2_cv_lin = alg_fit_cv(LinearRegression(), x, y, 'neg_mean_squared_error', 'r2')\n",
    "\n",
    "print(\"Root Mean Squared Error: %s\" % round(np.sqrt(mse_cv_lin*-1), 4))\n",
    "print(\"R-squared: %s\" % r2_cv_lin)"
   ]
  },
  {
   "cell_type": "code",
   "execution_count": 43,
   "metadata": {
    "execution": {
     "iopub.execute_input": "2020-10-13T09:23:56.897671Z",
     "iopub.status.busy": "2020-10-13T09:23:56.896670Z",
     "iopub.status.idle": "2020-10-13T09:23:56.978633Z",
     "shell.execute_reply": "2020-10-13T09:23:56.979198Z"
    },
    "papermill": {
     "duration": 0.174382,
     "end_time": "2020-10-13T09:23:56.979386",
     "exception": false,
     "start_time": "2020-10-13T09:23:56.805004",
     "status": "completed"
    },
    "tags": []
   },
   "outputs": [
    {
     "name": "stdout",
     "output_type": "stream",
     "text": [
      "Root Mean Squared Error: 5.023\n",
      "R-squared: 0.5342\n"
     ]
    }
   ],
   "source": [
    "# Ridge Regression\n",
    "mse_cv_rid, r2_cv_rid = alg_fit_cv(Ridge(alpha = 23), x, y, 'neg_mean_squared_error', 'r2')\n",
    "\n",
    "print(\"Root Mean Squared Error: %s\" % round(np.sqrt(mse_cv_rid*-1), 4))\n",
    "print(\"R-squared: %s\" % r2_cv_rid)"
   ]
  },
  {
   "cell_type": "code",
   "execution_count": 44,
   "metadata": {
    "execution": {
     "iopub.execute_input": "2020-10-13T09:23:57.150855Z",
     "iopub.status.busy": "2020-10-13T09:23:57.145132Z",
     "iopub.status.idle": "2020-10-13T09:23:57.234721Z",
     "shell.execute_reply": "2020-10-13T09:23:57.235178Z"
    },
    "papermill": {
     "duration": 0.173975,
     "end_time": "2020-10-13T09:23:57.235327",
     "exception": false,
     "start_time": "2020-10-13T09:23:57.061352",
     "status": "completed"
    },
    "tags": []
   },
   "outputs": [
    {
     "name": "stdout",
     "output_type": "stream",
     "text": [
      "Root Mean Squared Error: 5.023\n",
      "R-squared: 0.5342\n"
     ]
    }
   ],
   "source": [
    "# Lasso Regression\n",
    "mse_cv_las, r2_cv_las = alg_fit_cv(Ridge(alpha = 23), x, y, 'neg_mean_squared_error', 'r2')\n",
    "\n",
    "print(\"Root Mean Squared Error: %s\" % round(np.sqrt(mse_cv_las*-1), 4))\n",
    "print(\"R-squared: %s\" % r2_cv_las)"
   ]
  },
  {
   "cell_type": "markdown",
   "metadata": {
    "papermill": {
     "duration": 0.077979,
     "end_time": "2020-10-13T09:23:57.393094",
     "exception": false,
     "start_time": "2020-10-13T09:23:57.315115",
     "status": "completed"
    },
    "tags": []
   },
   "source": [
    "## Advanced models\n",
    "\n",
    "Let us use more advanced approaches."
   ]
  },
  {
   "cell_type": "code",
   "execution_count": 45,
   "metadata": {
    "execution": {
     "iopub.execute_input": "2020-10-13T09:23:57.561844Z",
     "iopub.status.busy": "2020-10-13T09:23:57.560996Z",
     "iopub.status.idle": "2020-10-13T09:23:58.153212Z",
     "shell.execute_reply": "2020-10-13T09:23:58.154132Z"
    },
    "papermill": {
     "duration": 0.683395,
     "end_time": "2020-10-13T09:23:58.154304",
     "exception": false,
     "start_time": "2020-10-13T09:23:57.470909",
     "status": "completed"
    },
    "tags": []
   },
   "outputs": [
    {
     "name": "stdout",
     "output_type": "stream",
     "text": [
      "Root Mean Squared Error: 5.0839\n",
      "R-squared: 0.5218\n"
     ]
    }
   ],
   "source": [
    "# LightGBM Regressor (after some parameter tuning)\n",
    "lgbm = LGBMRegressor(objective = 'regression',\n",
    "                     num_leaves = 20,\n",
    "                     learning_rate = 0.03,\n",
    "                     n_estimators = 200,\n",
    "                     max_bin = 50,\n",
    "                     bagging_fraction = 0.85,\n",
    "                     bagging_freq = 4,\n",
    "                     bagging_seed = 6,\n",
    "                     feature_fraction = 0.2,\n",
    "                     feature_fraction_seed = 7,\n",
    "                     verbose = -1)\n",
    "\n",
    "mse_cv_lgbm, r2_cv_lgbm = alg_fit_cv(lgbm, x, y, 'neg_mean_squared_error', 'r2')\n",
    "\n",
    "print(\"Root Mean Squared Error: %s\" % round(np.sqrt(mse_cv_lgbm*-1), 4))\n",
    "print(\"R-squared: %s\" % r2_cv_lgbm)"
   ]
  },
  {
   "cell_type": "code",
   "execution_count": 46,
   "metadata": {
    "execution": {
     "iopub.execute_input": "2020-10-13T09:23:58.372468Z",
     "iopub.status.busy": "2020-10-13T09:23:58.369101Z",
     "iopub.status.idle": "2020-10-13T09:23:59.696261Z",
     "shell.execute_reply": "2020-10-13T09:23:59.696799Z"
    },
    "papermill": {
     "duration": 1.434154,
     "end_time": "2020-10-13T09:23:59.696953",
     "exception": false,
     "start_time": "2020-10-13T09:23:58.262799",
     "status": "completed"
    },
    "tags": []
   },
   "outputs": [
    {
     "name": "stdout",
     "output_type": "stream",
     "text": [
      "Root Mean Squared Error: 4.8883\n",
      "R-squared: 0.5613\n"
     ]
    }
   ],
   "source": [
    "# XGB-Regressor (after some parameter tuning)\n",
    "xgb = XGBRegressor(n_estimators = 300,\n",
    "                   max_depth = 2,\n",
    "                   min_child_weight = 0,\n",
    "                   gamma = 8,\n",
    "                   subsample = 0.6,\n",
    "                   colsample_bytree = 0.9,\n",
    "                   objective = 'reg:squarederror',\n",
    "                   nthread = -1,\n",
    "                   scale_pos_weight = 1,\n",
    "                   seed = 27,\n",
    "                   learning_rate = 0.02,\n",
    "                   reg_alpha = 0.006)\n",
    "\n",
    "mse_cv_xgb, r2_cv_xgb = alg_fit_cv(xgb, x, y, 'neg_mean_squared_error', 'r2')\n",
    "\n",
    "print(\"Root Mean Squared Error: %s\" % round(np.sqrt(mse_cv_xgb*-1), 4))\n",
    "print(\"R-squared: %s\" % r2_cv_xgb)"
   ]
  },
  {
   "cell_type": "markdown",
   "metadata": {
    "papermill": {
     "duration": 0.07869,
     "end_time": "2020-10-13T09:23:59.855261",
     "exception": false,
     "start_time": "2020-10-13T09:23:59.776571",
     "status": "completed"
    },
    "tags": []
   },
   "source": [
    "## Optimizing our data and features\n",
    "\n",
    "**Outliers**"
   ]
  },
  {
   "cell_type": "code",
   "execution_count": 47,
   "metadata": {
    "execution": {
     "iopub.execute_input": "2020-10-13T09:24:00.017328Z",
     "iopub.status.busy": "2020-10-13T09:24:00.016358Z",
     "iopub.status.idle": "2020-10-13T09:24:00.018995Z",
     "shell.execute_reply": "2020-10-13T09:24:00.019510Z"
    },
    "papermill": {
     "duration": 0.086088,
     "end_time": "2020-10-13T09:24:00.019651",
     "exception": false,
     "start_time": "2020-10-13T09:23:59.933563",
     "status": "completed"
    },
    "tags": []
   },
   "outputs": [],
   "source": [
    "# Merge y and x back together\n",
    "#df_new = pd.concat([y, x], axis=1)\n",
    "\n",
    "# Compute Z-score for the dataframe\n",
    "#z = np.abs(stats.zscore(df_new))\n",
    "\n",
    "# Delete rows with outliers\n",
    "#df_new = df_new[(z < 4).all(axis = 1)].reset_index()\n",
    "\n",
    "# Split into y and x again\n",
    "#y_new = df_new.loc[:, 0]\n",
    "#x_new = df_new.loc[:, 'PTS 18/19':] \n",
    "#print(x_new.shape)\n",
    "#print(y_new.shape)"
   ]
  },
  {
   "cell_type": "markdown",
   "metadata": {
    "papermill": {
     "duration": 0.078483,
     "end_time": "2020-10-13T09:24:00.177766",
     "exception": false,
     "start_time": "2020-10-13T09:24:00.099283",
     "status": "completed"
    },
    "tags": []
   },
   "source": [
    "**Feature importance**\n",
    "\n",
    "We will use the XGB-Regressor to detect the most important features as it had the best accuracy score so far."
   ]
  },
  {
   "cell_type": "code",
   "execution_count": 48,
   "metadata": {
    "execution": {
     "iopub.execute_input": "2020-10-13T09:24:00.343614Z",
     "iopub.status.busy": "2020-10-13T09:24:00.342973Z",
     "iopub.status.idle": "2020-10-13T09:24:00.523495Z",
     "shell.execute_reply": "2020-10-13T09:24:00.522811Z"
    },
    "papermill": {
     "duration": 0.266476,
     "end_time": "2020-10-13T09:24:00.523672",
     "exception": false,
     "start_time": "2020-10-13T09:24:00.257196",
     "status": "completed"
    },
    "tags": []
   },
   "outputs": [
    {
     "data": {
      "text/html": [
       "<div>\n",
       "<style scoped>\n",
       "    .dataframe tbody tr th:only-of-type {\n",
       "        vertical-align: middle;\n",
       "    }\n",
       "\n",
       "    .dataframe tbody tr th {\n",
       "        vertical-align: top;\n",
       "    }\n",
       "\n",
       "    .dataframe thead th {\n",
       "        text-align: right;\n",
       "    }\n",
       "</style>\n",
       "<table border=\"1\" class=\"dataframe\">\n",
       "  <thead>\n",
       "    <tr style=\"text-align: right;\">\n",
       "      <th></th>\n",
       "      <th>feature importance</th>\n",
       "    </tr>\n",
       "  </thead>\n",
       "  <tbody>\n",
       "    <tr>\n",
       "      <th>MP 18/19</th>\n",
       "      <td>0.140423</td>\n",
       "    </tr>\n",
       "    <tr>\n",
       "      <th>FG 18/19</th>\n",
       "      <td>0.122429</td>\n",
       "    </tr>\n",
       "    <tr>\n",
       "      <th>PTS 18/19</th>\n",
       "      <td>0.095819</td>\n",
       "    </tr>\n",
       "    <tr>\n",
       "      <th>TOV 18/19</th>\n",
       "      <td>0.085521</td>\n",
       "    </tr>\n",
       "    <tr>\n",
       "      <th>FGA 18/19</th>\n",
       "      <td>0.047154</td>\n",
       "    </tr>\n",
       "    <tr>\n",
       "      <th>FT 18/19</th>\n",
       "      <td>0.042282</td>\n",
       "    </tr>\n",
       "    <tr>\n",
       "      <th>2PA 18/19</th>\n",
       "      <td>0.039820</td>\n",
       "    </tr>\n",
       "    <tr>\n",
       "      <th>DRB 18/19</th>\n",
       "      <td>0.039678</td>\n",
       "    </tr>\n",
       "    <tr>\n",
       "      <th>GS 18/19</th>\n",
       "      <td>0.037827</td>\n",
       "    </tr>\n",
       "    <tr>\n",
       "      <th>AST 18/19</th>\n",
       "      <td>0.028416</td>\n",
       "    </tr>\n",
       "    <tr>\n",
       "      <th>Age 18/19</th>\n",
       "      <td>0.026304</td>\n",
       "    </tr>\n",
       "    <tr>\n",
       "      <th>FTA 18/19</th>\n",
       "      <td>0.025996</td>\n",
       "    </tr>\n",
       "    <tr>\n",
       "      <th>TRB 18/19</th>\n",
       "      <td>0.025390</td>\n",
       "    </tr>\n",
       "    <tr>\n",
       "      <th>G 18/19</th>\n",
       "      <td>0.021824</td>\n",
       "    </tr>\n",
       "    <tr>\n",
       "      <th>STL 18/19</th>\n",
       "      <td>0.020971</td>\n",
       "    </tr>\n",
       "    <tr>\n",
       "      <th>Pos_C</th>\n",
       "      <td>0.020700</td>\n",
       "    </tr>\n",
       "    <tr>\n",
       "      <th>Pos_PF</th>\n",
       "      <td>0.020452</td>\n",
       "    </tr>\n",
       "    <tr>\n",
       "      <th>2P 18/19</th>\n",
       "      <td>0.019818</td>\n",
       "    </tr>\n",
       "    <tr>\n",
       "      <th>BLK 18/19</th>\n",
       "      <td>0.018311</td>\n",
       "    </tr>\n",
       "    <tr>\n",
       "      <th>2P% 18/19</th>\n",
       "      <td>0.018230</td>\n",
       "    </tr>\n",
       "    <tr>\n",
       "      <th>FG% 18/19</th>\n",
       "      <td>0.016506</td>\n",
       "    </tr>\n",
       "    <tr>\n",
       "      <th>3P 18/19</th>\n",
       "      <td>0.015510</td>\n",
       "    </tr>\n",
       "    <tr>\n",
       "      <th>eFG% 18/19</th>\n",
       "      <td>0.014200</td>\n",
       "    </tr>\n",
       "    <tr>\n",
       "      <th>PF 18/19</th>\n",
       "      <td>0.013105</td>\n",
       "    </tr>\n",
       "    <tr>\n",
       "      <th>Pos_SF</th>\n",
       "      <td>0.012119</td>\n",
       "    </tr>\n",
       "    <tr>\n",
       "      <th>3PA 18/19</th>\n",
       "      <td>0.011303</td>\n",
       "    </tr>\n",
       "    <tr>\n",
       "      <th>Pos_SG</th>\n",
       "      <td>0.010109</td>\n",
       "    </tr>\n",
       "    <tr>\n",
       "      <th>ORB 18/19</th>\n",
       "      <td>0.009783</td>\n",
       "    </tr>\n",
       "    <tr>\n",
       "      <th>Pos_PG</th>\n",
       "      <td>0.000000</td>\n",
       "    </tr>\n",
       "  </tbody>\n",
       "</table>\n",
       "</div>"
      ],
      "text/plain": [
       "            feature importance\n",
       "MP 18/19              0.140423\n",
       "FG 18/19              0.122429\n",
       "PTS 18/19             0.095819\n",
       "TOV 18/19             0.085521\n",
       "FGA 18/19             0.047154\n",
       "FT 18/19              0.042282\n",
       "2PA 18/19             0.039820\n",
       "DRB 18/19             0.039678\n",
       "GS 18/19              0.037827\n",
       "AST 18/19             0.028416\n",
       "Age 18/19             0.026304\n",
       "FTA 18/19             0.025996\n",
       "TRB 18/19             0.025390\n",
       "G 18/19               0.021824\n",
       "STL 18/19             0.020971\n",
       "Pos_C                 0.020700\n",
       "Pos_PF                0.020452\n",
       "2P 18/19              0.019818\n",
       "BLK 18/19             0.018311\n",
       "2P% 18/19             0.018230\n",
       "FG% 18/19             0.016506\n",
       "3P 18/19              0.015510\n",
       "eFG% 18/19            0.014200\n",
       "PF 18/19              0.013105\n",
       "Pos_SF                0.012119\n",
       "3PA 18/19             0.011303\n",
       "Pos_SG                0.010109\n",
       "ORB 18/19             0.009783\n",
       "Pos_PG                0.000000"
      ]
     },
     "execution_count": 48,
     "metadata": {},
     "output_type": "execute_result"
    }
   ],
   "source": [
    "# Model\n",
    "mod = xgb.fit(x, y)\n",
    "\n",
    "# Feature importance\n",
    "df_feature_importance = pd.DataFrame(xgb.feature_importances_, index = x.columns, \n",
    "                                     columns = ['feature importance']).sort_values('feature importance', \n",
    "                                                                                   ascending = False)\n",
    "df_feature_importance"
   ]
  },
  {
   "cell_type": "markdown",
   "metadata": {
    "papermill": {
     "duration": 0.079074,
     "end_time": "2020-10-13T09:24:00.682875",
     "exception": false,
     "start_time": "2020-10-13T09:24:00.603801",
     "status": "completed"
    },
    "tags": []
   },
   "source": [
    "**New features**\n",
    "\n",
    "We will use the features with high importance. Some features can't be used as they are redundant or close to another feature. For example field goals per game (FG 18/19) is not necessary as we already have pionts per game (PTS 18/19)."
   ]
  },
  {
   "cell_type": "code",
   "execution_count": 49,
   "metadata": {
    "execution": {
     "iopub.execute_input": "2020-10-13T09:24:00.851618Z",
     "iopub.status.busy": "2020-10-13T09:24:00.850726Z",
     "iopub.status.idle": "2020-10-13T09:24:00.853687Z",
     "shell.execute_reply": "2020-10-13T09:24:00.853069Z"
    },
    "papermill": {
     "duration": 0.091259,
     "end_time": "2020-10-13T09:24:00.853801",
     "exception": false,
     "start_time": "2020-10-13T09:24:00.762542",
     "status": "completed"
    },
    "tags": []
   },
   "outputs": [],
   "source": [
    "# Drop out features with low importance or which are redundant\n",
    "x_new = x.loc[:, ['PTS 18/19', 'Pos_PG', 'Pos_SG', 'Pos_SF', 'Pos_PF', 'Pos_C', 'Age 18/19', 'STL 18/19', \n",
    "                  'G 18/19', 'TRB 18/19', 'AST 18/19', 'PF 18/19', 'MP 18/19']]"
   ]
  },
  {
   "cell_type": "markdown",
   "metadata": {
    "papermill": {
     "duration": 0.07988,
     "end_time": "2020-10-13T09:24:01.012914",
     "exception": false,
     "start_time": "2020-10-13T09:24:00.933034",
     "status": "completed"
    },
    "tags": []
   },
   "source": [
    "## Final Model "
   ]
  },
  {
   "cell_type": "code",
   "execution_count": 50,
   "metadata": {
    "execution": {
     "iopub.execute_input": "2020-10-13T09:24:01.187149Z",
     "iopub.status.busy": "2020-10-13T09:24:01.183790Z",
     "iopub.status.idle": "2020-10-13T09:24:01.915287Z",
     "shell.execute_reply": "2020-10-13T09:24:01.914532Z"
    },
    "papermill": {
     "duration": 0.821596,
     "end_time": "2020-10-13T09:24:01.915467",
     "exception": false,
     "start_time": "2020-10-13T09:24:01.093871",
     "status": "completed"
    },
    "tags": []
   },
   "outputs": [
    {
     "name": "stdout",
     "output_type": "stream",
     "text": [
      "Root Mean Squared Error: 4.7413\n",
      "R-squared: 0.5885\n"
     ]
    }
   ],
   "source": [
    "# XGB-Regressor (after some parameter tuning)\n",
    "xgb_new = XGBRegressor(n_estimators = 270,\n",
    "                       max_depth = 2,\n",
    "                       min_child_weight = 0,\n",
    "                       gamma = 18,\n",
    "                       subsample = 0.7,\n",
    "                       colsample_bytree = 0.9,\n",
    "                       objective = 'reg:squarederror',\n",
    "                       nthread = -1,\n",
    "                       scale_pos_weight = 1,\n",
    "                       seed = 27,\n",
    "                       learning_rate = 0.023,\n",
    "                       reg_alpha = 0.02)\n",
    "\n",
    "mse_cv_xgb, r2_cv_xgb = alg_fit_cv(xgb_new, x_new, y, 'neg_mean_squared_error', 'r2')\n",
    "\n",
    "print(\"Root Mean Squared Error: %s\" % round(np.sqrt(mse_cv_xgb*-1), 4))\n",
    "print(\"R-squared: %s\" % r2_cv_xgb)"
   ]
  },
  {
   "cell_type": "markdown",
   "metadata": {
    "papermill": {
     "duration": 0.08101,
     "end_time": "2020-10-13T09:24:02.092397",
     "exception": false,
     "start_time": "2020-10-13T09:24:02.011387",
     "status": "completed"
    },
    "tags": []
   },
   "source": [
    "**Let's see how it performs on some test data**"
   ]
  },
  {
   "cell_type": "code",
   "execution_count": 51,
   "metadata": {
    "execution": {
     "iopub.execute_input": "2020-10-13T09:24:02.265983Z",
     "iopub.status.busy": "2020-10-13T09:24:02.265023Z",
     "iopub.status.idle": "2020-10-13T09:24:02.359608Z",
     "shell.execute_reply": "2020-10-13T09:24:02.360265Z"
    },
    "papermill": {
     "duration": 0.187042,
     "end_time": "2020-10-13T09:24:02.360492",
     "exception": false,
     "start_time": "2020-10-13T09:24:02.173450",
     "status": "completed"
    },
    "tags": []
   },
   "outputs": [
    {
     "name": "stdout",
     "output_type": "stream",
     "text": [
      "Root Mean Squared Error: 4.6793\n",
      "R-squared: 0.6256\n"
     ]
    },
    {
     "data": {
      "text/html": [
       "<div>\n",
       "<style scoped>\n",
       "    .dataframe tbody tr th:only-of-type {\n",
       "        vertical-align: middle;\n",
       "    }\n",
       "\n",
       "    .dataframe tbody tr th {\n",
       "        vertical-align: top;\n",
       "    }\n",
       "\n",
       "    .dataframe thead th {\n",
       "        text-align: right;\n",
       "    }\n",
       "</style>\n",
       "<table border=\"1\" class=\"dataframe\">\n",
       "  <thead>\n",
       "    <tr style=\"text-align: right;\">\n",
       "      <th></th>\n",
       "      <th>Player</th>\n",
       "      <th>Salary 19/20</th>\n",
       "      <th>y_pred</th>\n",
       "    </tr>\n",
       "  </thead>\n",
       "  <tbody>\n",
       "    <tr>\n",
       "      <th>80</th>\n",
       "      <td>Russell Westbrook</td>\n",
       "      <td>38178.000</td>\n",
       "      <td>37120.562500</td>\n",
       "    </tr>\n",
       "    <tr>\n",
       "      <th>77</th>\n",
       "      <td>John Wall</td>\n",
       "      <td>37800.000</td>\n",
       "      <td>23882.886719</td>\n",
       "    </tr>\n",
       "    <tr>\n",
       "      <th>51</th>\n",
       "      <td>Blake Griffin</td>\n",
       "      <td>34234.964</td>\n",
       "      <td>30581.968750</td>\n",
       "    </tr>\n",
       "    <tr>\n",
       "      <th>19</th>\n",
       "      <td>Kawhi Leonard</td>\n",
       "      <td>32742.000</td>\n",
       "      <td>30710.667969</td>\n",
       "    </tr>\n",
       "    <tr>\n",
       "      <th>104</th>\n",
       "      <td>Nikola Vučević</td>\n",
       "      <td>28000.000</td>\n",
       "      <td>26982.714844</td>\n",
       "    </tr>\n",
       "    <tr>\n",
       "      <th>98</th>\n",
       "      <td>Al Horford</td>\n",
       "      <td>28000.000</td>\n",
       "      <td>15906.945312</td>\n",
       "    </tr>\n",
       "    <tr>\n",
       "      <th>53</th>\n",
       "      <td>Andre Drummond</td>\n",
       "      <td>27093.019</td>\n",
       "      <td>21377.617188</td>\n",
       "    </tr>\n",
       "    <tr>\n",
       "      <th>0</th>\n",
       "      <td>Jrue Holiday</td>\n",
       "      <td>26131.111</td>\n",
       "      <td>33649.562500</td>\n",
       "    </tr>\n",
       "    <tr>\n",
       "      <th>4</th>\n",
       "      <td>Giannis Antetokounmpo</td>\n",
       "      <td>25842.697</td>\n",
       "      <td>20042.300781</td>\n",
       "    </tr>\n",
       "    <tr>\n",
       "      <th>10</th>\n",
       "      <td>Nicolas Batum</td>\n",
       "      <td>25565.217</td>\n",
       "      <td>11423.502930</td>\n",
       "    </tr>\n",
       "  </tbody>\n",
       "</table>\n",
       "</div>"
      ],
      "text/plain": [
       "                    Player  Salary 19/20        y_pred\n",
       "80       Russell Westbrook     38178.000  37120.562500\n",
       "77               John Wall     37800.000  23882.886719\n",
       "51           Blake Griffin     34234.964  30581.968750\n",
       "19           Kawhi Leonard     32742.000  30710.667969\n",
       "104         Nikola Vučević     28000.000  26982.714844\n",
       "98              Al Horford     28000.000  15906.945312\n",
       "53          Andre Drummond     27093.019  21377.617188\n",
       "0             Jrue Holiday     26131.111  33649.562500\n",
       "4    Giannis Antetokounmpo     25842.697  20042.300781\n",
       "10           Nicolas Batum     25565.217  11423.502930"
      ]
     },
     "execution_count": 51,
     "metadata": {},
     "output_type": "execute_result"
    }
   ],
   "source": [
    "# Split data now with x_new\n",
    "x_train, x_test, y_train, y_test = train_test_split(x_new, y, test_size = 0.2, random_state = 0)\n",
    "\n",
    "# Use function to fit algorithm\n",
    "y_pred_xgb, mse_xgb, r2_xgb, df_acc_xgb = alg_fit(xgb_new, x_train, y_train, x_test, 'Player', 'Salary 19/20', \n",
    "                                                  df1, metrics.mean_squared_error, metrics.r2_score)\n",
    "\n",
    "print(\"Root Mean Squared Error: %s\" % round(np.sqrt(mse_xgb), 4))\n",
    "print(\"R-squared: %s\" % r2_xgb)\n",
    "df_acc_xgb.head(10)"
   ]
  }
 ],
 "metadata": {
  "kernelspec": {
   "display_name": "Python 3",
   "language": "python",
   "name": "python3"
  },
  "language_info": {
   "codemirror_mode": {
    "name": "ipython",
    "version": 3
   },
   "file_extension": ".py",
   "mimetype": "text/x-python",
   "name": "python",
   "nbconvert_exporter": "python",
   "pygments_lexer": "ipython3",
   "version": "3.7.6"
  },
  "papermill": {
   "duration": 28.669923,
   "end_time": "2020-10-13T09:24:02.555247",
   "environment_variables": {},
   "exception": null,
   "input_path": "__notebook__.ipynb",
   "output_path": "__notebook__.ipynb",
   "parameters": {},
   "start_time": "2020-10-13T09:23:33.885324",
   "version": "2.1.0"
  }
 },
 "nbformat": 4,
 "nbformat_minor": 4
}
